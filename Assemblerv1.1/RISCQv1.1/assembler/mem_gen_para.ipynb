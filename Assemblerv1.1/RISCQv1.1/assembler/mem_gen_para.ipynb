{
 "cells": [
  {
   "cell_type": "code",
   "execution_count": 7,
   "metadata": {},
   "outputs": [],
   "source": [
    "class BitArrayHandler:\n",
    "    def __init__(self):\n",
    "        # 初始化两个数组\n",
    "        self.array_128bit = []  # 用于存储 128 位数字\n",
    "        self.array_32bit = []   # 用于存储 32 位数字\n",
    "\n",
    "    def append(self, u0, u1, u2, u3, extra32):\n",
    "        if not all(0 <= part < 2**32 for part in [u0, u1, u2, u3,extra32]):\n",
    "            raise ValueError(\"All inputs must be 32-bit integers (0 <= value < 2^32).\")\n",
    "        \n",
    "        v0 = u0\n",
    "        v1 = u1 +u2/2+u3/6\n",
    "        v2 = u2 +u3\n",
    "        v3 = u3\n",
    "\n",
    "        full_para_128bit = (int(v3)<<96) | (int(v2)<<64) | (int(v1+1)<<32 ) | (int(v0))\n",
    "\n",
    "        self.array_128bit.append(full_para_128bit)\n",
    "        self.array_32bit.append(extra32)\n",
    "\n",
    "    def get_arrays(self):\n",
    "        \"\"\"\n",
    "        返回存储的两个数组。\n",
    "        \"\"\"\n",
    "        return self.array_128bit, self.array_32bit"
   ]
  },
  {
   "cell_type": "code",
   "execution_count": 8,
   "metadata": {},
   "outputs": [
    {
     "name": "stdout",
     "output_type": "stream",
     "text": [
      "128-bit array:\n",
      "00000028000000460000002a0000000a\n",
      "000721800007229e0001317b000000dd\n",
      "\n",
      "32-bit array:\n",
      "00000064\n",
      "55667788\n"
     ]
    }
   ],
   "source": [
    "# 创建类实例\n",
    "handler = BitArrayHandler()\n",
    "\n",
    "# 使用 append 方法添加十进制数据\n",
    "handler.append(10, 20, 30, 40,100)  # 十进制输入\n",
    "handler.append(221, 171, 286,467328, 1432778632)  # 十进制输入\n",
    "\n",
    "# 获取并打印存储的数组\n",
    "array_128bit, array_32bit = handler.get_arrays()\n",
    "print(\"128-bit array:\")\n",
    "for num in array_128bit:\n",
    "    print(f\"{num:032x}\")  # 以 128 位十六进制格式输出\n",
    "\n",
    "print(\"\\n32-bit array:\")\n",
    "for num in array_32bit:\n",
    "    print(f\"{num:08x}\")  # 以 32 位十六进制格式输出"
   ]
  }
 ],
 "metadata": {
  "kernelspec": {
   "display_name": "Python 3",
   "language": "python",
   "name": "python3"
  },
  "language_info": {
   "codemirror_mode": {
    "name": "ipython",
    "version": 3
   },
   "file_extension": ".py",
   "mimetype": "text/x-python",
   "name": "python",
   "nbconvert_exporter": "python",
   "pygments_lexer": "ipython3",
   "version": "3.13.0"
  }
 },
 "nbformat": 4,
 "nbformat_minor": 2
}
