{
 "cells": [
  {
   "cell_type": "markdown",
   "id": "f3fe4cc5",
   "metadata": {},
   "source": [
    "# Bell Manual"
   ]
  },
  {
   "cell_type": "markdown",
   "id": "b25c063a",
   "metadata": {},
   "source": [
    "## 环境配置\n",
    "目前使用的包很少，python 3.10+，根据提示安装相应的包即可。"
   ]
  },
  {
   "cell_type": "markdown",
   "id": "7899d479",
   "metadata": {},
   "source": [
    "## 0. 文件树\n",
    "所有文件的说明参考`BQIC/README.md`，此处使用的文件根目录是CompilerDev。"
   ]
  },
  {
   "cell_type": "markdown",
   "id": "a8ce4605",
   "metadata": {},
   "source": [
    "## 1. 序列定义\n",
    "参考`Config/DDS_config_example.py`,设置\n",
    "1. 时序单元：通道名对应的频率、幅度和相位等状态参数\n",
    "2. 时间序列：根据需要将时序单元拼接成时间序列\n",
    "3. 可以在其中设置参数，就像函数的参数一样，方便后续调用"
   ]
  },
  {
   "cell_type": "code",
   "execution_count": null,
   "id": "194c1346",
   "metadata": {},
   "outputs": [],
   "source": [
    "Thresh = {\"493\":0.14,\"553\":0.18,'614':0.35,'650':0.3,'1762EOM':0.2,'532':0.2}\n",
    "# Pumping States\n",
    "Pumping = DDS(\"Pumping\")\n",
    "Pumping.s0.f(100).a(0.2)\n",
    "Pumping.s1.f(220).a(0.75)\n",
    "Pumping.s2.f(110).a(0.5)\n",
    "Pumping.s3.f(110).a(0.25)\n",
    "Pumping.s4.f(220).a(1)\n",
    "Pumping.s5.f(110).a(0.75)\n",
    "Pumping.s6.f(220).a(0.5)\n",
    "Pumping.s7.f(220).a(0.25)\n",
    "Pumping.s8.f(220).a(0)\n",
    "Pumping.on.f(120).a(0.1)\n",
    "Pumping.on.f(125).a(0.5*Thresh['493'])\n",
    "Pumping.off.f(125).a(0)"
   ]
  },
  {
   "cell_type": "markdown",
   "id": "248f037d",
   "metadata": {},
   "source": [
    "## 2.生成硬件指令和数据\n",
    "1. 使用`Interpreter/Compile2Bell_data.py`生成硬件需要的数据\n",
    "2. 使用`Interpreter/Compile2Bell_Inst.py`生成硬件需要的指令\n",
    "3. 生成的数据和指令保存在`Output`文件夹中的`Datawithheader.txt`和`Inst.txt`中"
   ]
  },
  {
   "cell_type": "code",
   "execution_count": 1,
   "id": "05ab469b",
   "metadata": {},
   "outputs": [
    {
     "name": "stdout",
     "output_type": "stream",
     "text": [
      "Current working directory: d:\\code\\BQIC\\CompilerDev\\Interpreter\n",
      "project_root: d:\\code\\BQIC\\CompilerDev\n",
      "sys.path: ['d:\\\\code\\\\BQIC\\\\CompilerDev', 'd:\\\\code\\\\BQIC\\\\CompilerDev\\\\Interpreter', 'd:\\\\tools\\\\Scoop\\\\apps\\\\miniconda3\\\\23.5.2-0\\\\python310.zip']\n"
     ]
    }
   ],
   "source": [
    "# Compile2Bell_data.py\n",
    "#0. 导入必要的模块\n",
    "import sys\n",
    "import os\n",
    "# 在 Jupyter Notebook 中获取当前工作目录\n",
    "current_dir = os.getcwd()\n",
    "print(\"Current working directory:\", current_dir)\n",
    "\n",
    "# 根据实际情况调整项目根目录\n",
    "if 'Interpreter' in current_dir:\n",
    "    project_root = os.path.abspath(os.path.join(current_dir, '..'))\n",
    "else:\n",
    "    project_root = os.path.abspath(os.path.join(current_dir, 'CompilerDev'))\n",
    "\n",
    "if project_root not in sys.path:\n",
    "    sys.path.insert(0, project_root)\n",
    "\n",
    "print(\"project_root:\", project_root)\n",
    "print(\"sys.path:\", sys.path[:3])  # 只显示前3个路径\n",
    "\n",
    "# 确保 Opfunc 目录下有 __init__.py 文件\n",
    "opfunc_init = os.path.join(project_root, 'Opfunc', '__init__.py')\n",
    "if not os.path.exists(opfunc_init):\n",
    "    print(f\"Warning: {opfunc_init} does not exist. Creating empty __init__.py\")\n",
    "    os.makedirs(os.path.dirname(opfunc_init), exist_ok=True)\n",
    "    with open(opfunc_init, 'w') as f:\n",
    "        pass\n",
    "    \n",
    "from DDS_Seq import DDS,Seq\n",
    "from config418 import * \n",
    "\n",
    "import CompileUtils as utils\n",
    "\n",
    "from Opfunc.OpfuncPulse import OpfuncPulse\n",
    "from Opfunc.OpfuncRF_DDS import OpfuncRF_DDS\n",
    "\n",
    "from typing import List"
   ]
  },
  {
   "cell_type": "code",
   "execution_count": 3,
   "id": "e4fbcb8d",
   "metadata": {},
   "outputs": [
    {
     "name": "stdout",
     "output_type": "stream",
     "text": [
      "添加header成功，文件已保存到: ../Output/DatawithHeader0.txt\n",
      "header: eb9c55aa000200000000000000700000\n"
     ]
    }
   ],
   "source": [
    "#1.init seq 导入一个Config文件中定义好的时间序列或者基于已有的时序单元设计一个新的时间序列\n",
    "seq_cooling = Seq().Operate(4000).Detection(10000,10).Operate_0(5000)\n",
    "\n",
    "#2. 对序列进行编译，转换成需要的中间表示\n",
    "seqs4Bell = seq_cooling.seq\n",
    "seqsIR = utils.compile2Bell(seqs4Bell)  # Bell IR\n",
    "\n",
    "#3. 定义Bell设备的DDS和TTL通道\n",
    "dds: List[OpfuncRF_DDS] = [OpfuncRF_DDS(DeviceID=i) for i in range(4)] # Bell设备有4个DDS通道，每个通道上有6个频率，TODO：扩充通道数\n",
    "ttl: List[OpfuncPulse] = [OpfuncPulse(DeviceID=i) for i in range(32)]\n",
    "\n",
    "#4. 需要将IR指令转换为设备data数据\n",
    "OutputDir = \"../Output/\"\n",
    "OutputPath = OutputDir + \"Data0.txt\"\n",
    "OutputPathwithHeader = OutputDir + \"DatawithHeader0.txt\"\n",
    "\n",
    "with open(OutputPath, \"w\") as f: # 打开dds.txt文件，并将其清空\n",
    "    pass\n",
    "\n",
    "for seq in seqsIR:\n",
    "    for i in range(len(dds)):\n",
    "        dds[i].reset()\n",
    "        flag_write = False\n",
    "        for item in seq:\n",
    "            if item[0]==\"dds\" and item[1]==i:\n",
    "                dds[i].setwaveform(item[2], item[3], item[4], item[5]) # TODO: 只有一个频率分量\n",
    "                dds[i].gen_assembler()\n",
    "                dds[i].setwaveform(0,0,0,0)\n",
    "                dds[i].gen_assembler()\n",
    "                dds[i].gen_assembler()\n",
    "                dds[i].gen_assembler()\n",
    "                dds[i].gen_assembler()\n",
    "                dds[i].gen_assembler()\n",
    "                dds[i].adjust_array_length() #add EOF\n",
    "                flag_write = True\n",
    "                break # 找到对应的dds通道后，跳出循环\n",
    "        # 如果没有找到对应的dds通道，则将其设置为0\n",
    "        if flag_write==False:\n",
    "            dds[i].setwaveform(0,0,0,0)\n",
    "            dds[i].gen_assembler()\n",
    "            dds[i].gen_assembler()\n",
    "            dds[i].gen_assembler()\n",
    "            dds[i].gen_assembler()\n",
    "            dds[i].gen_assembler()\n",
    "            dds[i].gen_assembler()\n",
    "            dds[i].adjust_array_length() #add EOF\n",
    "\n",
    "    #5. 输出到文件    \n",
    "    for i in range(len(dds)):\n",
    "        dds[i].output2file(OutputPath) # 输出到文件\n",
    "\n",
    "    for i in range(len(ttl)):\n",
    "        ttl[i].reset()\n",
    "        for item in seq:\n",
    "            if item[0]==\"TTL\" and item[1]==i:\n",
    "                # print(\"item:\", item)\n",
    "                ttl[i].setwaveform(\"input\", 0,1, item[2])  # 设置为输出模式\n",
    "                ttl[i].gen_assembler()\n",
    "                ttl[i].adjust_array_length() #add EOF\n",
    "# 6. 合并文件头\n",
    "utils.merge_param_files_with_header(OutputPath, OutputPathwithHeader)"
   ]
  },
  {
   "cell_type": "code",
   "execution_count": 4,
   "id": "73aefb3c",
   "metadata": {},
   "outputs": [
    {
     "name": "stdout",
     "output_type": "stream",
     "text": [
      "IR_length: 4\n"
     ]
    }
   ],
   "source": [
    "# Compile2Bell_Inst.py\n",
    "# 0. 导入需要用到指令模块\n",
    "import Compile2Bell_Inst\n",
    "\n",
    "# 1. 定义IR指令长度,可以从Compile2Bell_Data.py中获取\n",
    "IR_length = len(seqsIR)\n",
    "print(\"IR_length:\", IR_length)\n",
    "# 2. 定义IR指令\n",
    "Inst = Compile2Bell_Inst.LoadDDS(IR_length)\n",
    "# 3. 写入文件\n",
    "OutputDir = \"../Output/\"\n",
    "OutputPath = OutputDir + \"Inst0.txt\"\n",
    "with open(OutputPath, \"w\") as f:\n",
    "    for item in Inst[0]:\n",
    "        f.write(item + \"\\n\")"
   ]
  },
  {
   "cell_type": "markdown",
   "id": "071f320e",
   "metadata": {},
   "source": [
    "## 3.PXIE接口上传运行"
   ]
  },
  {
   "cell_type": "code",
   "execution_count": null,
   "id": "99b87269",
   "metadata": {},
   "outputs": [],
   "source": [
    "# 参考PXIEInterfaceAPI模块\n"
   ]
  }
 ],
 "metadata": {
  "kernelspec": {
   "display_name": "base",
   "language": "python",
   "name": "python3"
  },
  "language_info": {
   "codemirror_mode": {
    "name": "ipython",
    "version": 3
   },
   "file_extension": ".py",
   "mimetype": "text/x-python",
   "name": "python",
   "nbconvert_exporter": "python",
   "pygments_lexer": "ipython3",
   "version": "3.10.12"
  }
 },
 "nbformat": 4,
 "nbformat_minor": 5
}
