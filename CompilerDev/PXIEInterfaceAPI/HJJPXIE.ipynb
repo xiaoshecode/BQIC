{
 "cells": [
  {
   "cell_type": "code",
   "execution_count": 4,
   "id": "5658c427",
   "metadata": {},
   "outputs": [],
   "source": [
    "import ctypes,os\n",
    "# import chardet\n",
    "# import binascii\n",
    "import sys\n",
    "# from sys import getsizeof\n",
    "import numpy as np\n",
    "import math\n",
    "import time\n",
    "# import matplotlib.pyplot as plt\n",
    "import PXIEInit\n",
    "from PXIEInit import PXIEDriver\n",
    "DriverPath = \"D:\\code\\BQIC\\CompilerDev\\PXIEInterfaceAPI\\Driver_isa.dll\""
   ]
  },
  {
   "cell_type": "code",
   "execution_count": null,
   "id": "549d21b8",
   "metadata": {},
   "outputs": [],
   "source": [
    "Driver4PXIE = PXIEDriver()\n",
    "awg0 = '0008'\n",
    "tcm = '0005'"
   ]
  },
  {
   "cell_type": "markdown",
   "id": "27377bb3",
   "metadata": {},
   "source": [
    "## Delay 调整"
   ]
  },
  {
   "cell_type": "code",
   "execution_count": null,
   "id": "e1d7b430",
   "metadata": {},
   "outputs": [],
   "source": [
    "Driver4PXIE.SetDelay(awg0, 150)\n",
    "Driver4PXIE.HardReset(tcm)\n",
    "# DRIVER_ELEC.sys_reset(tcm)"
   ]
  },
  {
   "cell_type": "markdown",
   "id": "4db80ef4",
   "metadata": {},
   "source": [
    "## DDS test"
   ]
  },
  {
   "cell_type": "code",
   "execution_count": null,
   "id": "346a3dee",
   "metadata": {},
   "outputs": [],
   "source": [
    "# ttl_in_out_config = {}\n",
    "Driver4PXIE.SetDriverPath(DriverPath)\n",
    "# Driver4PXIE.init_ttl_config(ttl_in_out_config)"
   ]
  },
  {
   "cell_type": "code",
   "execution_count": null,
   "id": "f3e604a8",
   "metadata": {},
   "outputs": [],
   "source": [
    "Driver4PXIE.LoadSeq(\"DDS\", awg0,Inst=\"C:\\\\CODE\\\\BQIC\\\\CompilerDev\\\\Output\\\\inst_header.txt\")"
   ]
  },
  {
   "cell_type": "code",
   "execution_count": null,
   "id": "71b5276f",
   "metadata": {},
   "outputs": [],
   "source": [
    "Driver4PXIE.SysTrigger(tcm)"
   ]
  },
  {
   "cell_type": "code",
   "execution_count": null,
   "id": "bd8f5275",
   "metadata": {},
   "outputs": [],
   "source": [
    "# DRIVER_ELEC.awg_ddr_init(awg0, r\"C:\\CODE\\BQIC\\CompilerDev\\Output\\inst_header.txt\".encode('utf-8'))\n",
    "# time.sleep(0.1)\n",
    "# DRIVER_ELEC.awg_ddr_init(awg0, r\"C:\\CODE\\BQIC\\CompilerDev\\Output\\DatawithHeader0.txt\".encode('utf-8'))\n",
    "# time.sleep(0.1)\n",
    "\n",
    "# DRIVER_ELEC.sys_trigger(tcm)\n",
    "Driver4PXIE.DacStatus(awg0)\n",
    "\n",
    "Driver4PXIE.ReadFreq(awg0)\n",
    "\n",
    "# dac_status = DRIVER_ELEC.awg_dac_sync_success(awg0)\n",
    "# if dac_status == 0x30303030:\n",
    "#     print('dac sync success')\n",
    "# else:\n",
    "#     print('dac sync failed')\n",
    "\n",
    "# freq = DRIVER_ELEC.awg_dac_freq(awg0, 0)\n",
    "# freq = freq/2**30*250\n",
    "# print(freq)"
   ]
  },
  {
   "cell_type": "markdown",
   "id": "1a3962c8",
   "metadata": {},
   "source": [
    "## TTL test"
   ]
  },
  {
   "cell_type": "code",
   "execution_count": 5,
   "id": "ddb0720d",
   "metadata": {},
   "outputs": [],
   "source": [
    "# PXIE驱动使用demo\n",
    "ttl_ch0 = 0\n",
    "ttl_ch1 = 0\n",
    "ttl_ch2 = 1\n",
    "ttl_ch3 = 1\n",
    "ttl_ch4 = 1\n",
    "ttl_ch5 = 1\n",
    "ttl_ch6 = 1\n",
    "ttl_ch7 = 1\n",
    "ttl_ch8 = 1\n",
    "ttl_ch9 = 1\n",
    "ttl_ch10 = 1\n",
    "ttl_ch11 = 1\n",
    "ttl_ch12 = 1\n",
    "ttl_ch13 = 1\n",
    "ttl_ch14 = 1\n",
    "ttl_ch15 = 1\n",
    "ttl_ch16 = 1\n",
    "ttl_ch17 = 1\n",
    "ttl_ch18 = 1\n",
    "ttl_ch19 = 1\n",
    "ttl_ch20 = 1\n",
    "ttl_ch21 = 1\n",
    "ttl_ch22 = 1\n",
    "ttl_ch23 = 1\n",
    "ttl_ch24 = 1\n",
    "ttl_ch25 = 1\n",
    "ttl_ch26 = 1\n",
    "ttl_ch27 = 1\n",
    "ttl_ch28 = 1\n",
    "ttl_ch29 = 1\n",
    "ttl_ch30 = 1\n",
    "ttl_ch31 = 1\n",
    "ttl_in_out_config = [ttl_ch0,ttl_ch1,ttl_ch2,ttl_ch3,ttl_ch4,ttl_ch5,ttl_ch6,ttl_ch7,\n",
    "                   ttl_ch8,ttl_ch9,ttl_ch10,ttl_ch11,ttl_ch12,ttl_ch13,ttl_ch14,ttl_ch15,\n",
    "                   ttl_ch16,ttl_ch17,ttl_ch18,ttl_ch19,ttl_ch20,ttl_ch21,ttl_ch22,ttl_ch23,\n",
    "                   ttl_ch24,ttl_ch25,ttl_ch26,ttl_ch27,ttl_ch28,ttl_ch29,ttl_ch30,ttl_ch31]"
   ]
  }
 ],
 "metadata": {
  "kernelspec": {
   "display_name": "base",
   "language": "python",
   "name": "python3"
  },
  "language_info": {
   "codemirror_mode": {
    "name": "ipython",
    "version": 3
   },
   "file_extension": ".py",
   "mimetype": "text/x-python",
   "name": "python",
   "nbconvert_exporter": "python",
   "pygments_lexer": "ipython3",
   "version": "3.10.12"
  }
 },
 "nbformat": 4,
 "nbformat_minor": 5
}
