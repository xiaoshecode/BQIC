{
 "cells": [
  {
   "cell_type": "code",
   "execution_count": 6,
   "id": "25e9cee5",
   "metadata": {},
   "outputs": [],
   "source": [
    "from PXIEInit import PXIEDriver\n",
    "from PXIEUtils import *"
   ]
  },
  {
   "cell_type": "code",
   "execution_count": 2,
   "id": "110b4d02",
   "metadata": {},
   "outputs": [],
   "source": [
    "# PXIE驱动使用demo\n",
    "ttl_ch0 = 0\n",
    "ttl_ch1 = 0\n",
    "ttl_ch2 = 1\n",
    "ttl_ch3 = 1\n",
    "ttl_ch4 = 1\n",
    "ttl_ch5 = 1\n",
    "ttl_ch6 = 1\n",
    "ttl_ch7 = 1\n",
    "ttl_ch8 = 1\n",
    "ttl_ch9 = 1\n",
    "ttl_ch10 = 1\n",
    "ttl_ch11 = 1\n",
    "ttl_ch12 = 1\n",
    "ttl_ch13 = 1\n",
    "ttl_ch14 = 1\n",
    "ttl_ch15 = 1\n",
    "ttl_ch16 = 1\n",
    "ttl_ch17 = 1\n",
    "ttl_ch18 = 1\n",
    "ttl_ch19 = 1\n",
    "ttl_ch20 = 1\n",
    "ttl_ch21 = 1\n",
    "ttl_ch22 = 1\n",
    "ttl_ch23 = 1\n",
    "ttl_ch24 = 1\n",
    "ttl_ch25 = 1\n",
    "ttl_ch26 = 1\n",
    "ttl_ch27 = 1\n",
    "ttl_ch28 = 1\n",
    "ttl_ch29 = 1\n",
    "ttl_ch30 = 1\n",
    "ttl_ch31 = 1\n",
    "ttl_in_out_config = [ttl_ch0,ttl_ch1,ttl_ch2,ttl_ch3,ttl_ch4,ttl_ch5,ttl_ch6,ttl_ch7,\n",
    "                   ttl_ch8,ttl_ch9,ttl_ch10,ttl_ch11,ttl_ch12,ttl_ch13,ttl_ch14,ttl_ch15,\n",
    "                   ttl_ch16,ttl_ch17,ttl_ch18,ttl_ch19,ttl_ch20,ttl_ch21,ttl_ch22,ttl_ch23,\n",
    "                   ttl_ch24,ttl_ch25,ttl_ch26,ttl_ch27,ttl_ch28,ttl_ch29,ttl_ch30,ttl_ch31]"
   ]
  },
  {
   "cell_type": "code",
   "execution_count": 7,
   "id": "e2d5598a",
   "metadata": {},
   "outputs": [
    {
     "ename": "FileNotFoundError",
     "evalue": "Could not find module 'd:\\code\\BQIC\\CompilerDev\\PXIEInterfaceAPI\\Driver_isa.dll' (or one of its dependencies). Try using the full path with constructor syntax.",
     "output_type": "error",
     "traceback": [
      "\u001b[1;31m---------------------------------------------------------------------------\u001b[0m",
      "\u001b[1;31mFileNotFoundError\u001b[0m                         Traceback (most recent call last)",
      "Cell \u001b[1;32mIn[7], line 4\u001b[0m\n\u001b[0;32m      1\u001b[0m \u001b[38;5;66;03m# initialize PXIE driver\u001b[39;00m\n\u001b[0;32m      2\u001b[0m \u001b[38;5;66;03m# 注意：Driver_isa.dll需要在当前目录下，或者在系统的PATH环境变量中\u001b[39;00m\n\u001b[0;32m      3\u001b[0m driver_path \u001b[38;5;241m=\u001b[39m \u001b[38;5;124m'\u001b[39m\u001b[38;5;124m./Driver_isa.dll\u001b[39m\u001b[38;5;124m'\u001b[39m\n\u001b[1;32m----> 4\u001b[0m pxie \u001b[38;5;241m=\u001b[39m \u001b[43mPXIEDriver\u001b[49m\u001b[43m(\u001b[49m\u001b[43mdriver_path\u001b[49m\u001b[43m,\u001b[49m\u001b[43mttl_in_out_config\u001b[49m\u001b[43m)\u001b[49m\n\u001b[0;32m      5\u001b[0m awg0 \u001b[38;5;241m=\u001b[39m \u001b[38;5;124m\"\u001b[39m\u001b[38;5;124m0005\u001b[39m\u001b[38;5;124m\"\u001b[39m\u001b[38;5;66;03m# 以str保存，在底层会转换为bytes\u001b[39;00m\n\u001b[0;32m      6\u001b[0m awg1 \u001b[38;5;241m=\u001b[39m \u001b[38;5;124m\"\u001b[39m\u001b[38;5;124m000d\u001b[39m\u001b[38;5;124m\"\u001b[39m\n",
      "File \u001b[1;32md:\\code\\BQIC\\CompilerDev\\PXIEInterfaceAPI\\PXIEInit.py:13\u001b[0m, in \u001b[0;36mPXIEDriver.__init__\u001b[1;34m(self, DriverPath, ttl_in_out_config)\u001b[0m\n\u001b[0;32m     12\u001b[0m \u001b[38;5;28;01mdef\u001b[39;00m \u001b[38;5;21m__init__\u001b[39m(\u001b[38;5;28mself\u001b[39m, DriverPath,ttl_in_out_config):\n\u001b[1;32m---> 13\u001b[0m     \u001b[38;5;28mself\u001b[39m\u001b[38;5;241m.\u001b[39mDRIVER_ELEC \u001b[38;5;241m=\u001b[39m \u001b[43mPXIEUtils\u001b[49m\u001b[38;5;241;43m.\u001b[39;49m\u001b[43mDRIVERELEC\u001b[49m\u001b[43m(\u001b[49m\u001b[43mDriverPath\u001b[49m\u001b[43m)\u001b[49m \u001b[38;5;66;03m# 载入动态链接库\u001b[39;00m\n\u001b[0;32m     14\u001b[0m     \u001b[38;5;28mself\u001b[39m\u001b[38;5;241m.\u001b[39mawg0 \u001b[38;5;241m=\u001b[39m \u001b[38;5;124m\"\u001b[39m\u001b[38;5;124m0005\u001b[39m\u001b[38;5;124m\"\u001b[39m\u001b[38;5;66;03m# 以str保存，在底层会转换为bytes\u001b[39;00m\n\u001b[0;32m     15\u001b[0m     \u001b[38;5;28mself\u001b[39m\u001b[38;5;241m.\u001b[39mawg1 \u001b[38;5;241m=\u001b[39m \u001b[38;5;124m\"\u001b[39m\u001b[38;5;124m000d\u001b[39m\u001b[38;5;124m\"\u001b[39m\n",
      "File \u001b[1;32md:\\code\\BQIC\\CompilerDev\\PXIEInterfaceAPI\\PXIEUtils.py:58\u001b[0m, in \u001b[0;36mDRIVERELEC.__init__\u001b[1;34m(self, path)\u001b[0m\n\u001b[0;32m     57\u001b[0m \u001b[38;5;28;01mdef\u001b[39;00m \u001b[38;5;21m__init__\u001b[39m(\u001b[38;5;28mself\u001b[39m, path):\n\u001b[1;32m---> 58\u001b[0m     \u001b[38;5;28mself\u001b[39m\u001b[38;5;241m.\u001b[39mlib \u001b[38;5;241m=\u001b[39m \u001b[43mctypes\u001b[49m\u001b[38;5;241;43m.\u001b[39;49m\u001b[43mcdll\u001b[49m\u001b[38;5;241;43m.\u001b[39;49m\u001b[43mLoadLibrary\u001b[49m\u001b[43m(\u001b[49m\u001b[43mpath\u001b[49m\u001b[43m)\u001b[49m\n",
      "File \u001b[1;32md:\\tools\\Scoop\\apps\\miniconda3\\23.5.2-0\\lib\\ctypes\\__init__.py:452\u001b[0m, in \u001b[0;36mLibraryLoader.LoadLibrary\u001b[1;34m(self, name)\u001b[0m\n\u001b[0;32m    451\u001b[0m \u001b[38;5;28;01mdef\u001b[39;00m \u001b[38;5;21mLoadLibrary\u001b[39m(\u001b[38;5;28mself\u001b[39m, name):\n\u001b[1;32m--> 452\u001b[0m     \u001b[38;5;28;01mreturn\u001b[39;00m \u001b[38;5;28;43mself\u001b[39;49m\u001b[38;5;241;43m.\u001b[39;49m\u001b[43m_dlltype\u001b[49m\u001b[43m(\u001b[49m\u001b[43mname\u001b[49m\u001b[43m)\u001b[49m\n",
      "File \u001b[1;32md:\\tools\\Scoop\\apps\\miniconda3\\23.5.2-0\\lib\\ctypes\\__init__.py:374\u001b[0m, in \u001b[0;36mCDLL.__init__\u001b[1;34m(self, name, mode, handle, use_errno, use_last_error, winmode)\u001b[0m\n\u001b[0;32m    371\u001b[0m \u001b[38;5;28mself\u001b[39m\u001b[38;5;241m.\u001b[39m_FuncPtr \u001b[38;5;241m=\u001b[39m _FuncPtr\n\u001b[0;32m    373\u001b[0m \u001b[38;5;28;01mif\u001b[39;00m handle \u001b[38;5;129;01mis\u001b[39;00m \u001b[38;5;28;01mNone\u001b[39;00m:\n\u001b[1;32m--> 374\u001b[0m     \u001b[38;5;28mself\u001b[39m\u001b[38;5;241m.\u001b[39m_handle \u001b[38;5;241m=\u001b[39m \u001b[43m_dlopen\u001b[49m\u001b[43m(\u001b[49m\u001b[38;5;28;43mself\u001b[39;49m\u001b[38;5;241;43m.\u001b[39;49m\u001b[43m_name\u001b[49m\u001b[43m,\u001b[49m\u001b[43m \u001b[49m\u001b[43mmode\u001b[49m\u001b[43m)\u001b[49m\n\u001b[0;32m    375\u001b[0m \u001b[38;5;28;01melse\u001b[39;00m:\n\u001b[0;32m    376\u001b[0m     \u001b[38;5;28mself\u001b[39m\u001b[38;5;241m.\u001b[39m_handle \u001b[38;5;241m=\u001b[39m handle\n",
      "\u001b[1;31mFileNotFoundError\u001b[0m: Could not find module 'd:\\code\\BQIC\\CompilerDev\\PXIEInterfaceAPI\\Driver_isa.dll' (or one of its dependencies). Try using the full path with constructor syntax."
     ]
    }
   ],
   "source": [
    "# initialize PXIE driver\n",
    "# 注意：Driver_isa.dll需要在当前目录下，或者在系统的PATH环境变量中\n",
    "driver_path = './Driver_isa.dll'\n",
    "pxie = PXIEDriver(driver_path,ttl_in_out_config)\n",
    "awg0 = \"0005\"# 以str保存，在底层会转换为bytes\n",
    "awg1 = \"000d\"\n",
    "ttl0 = \"0007\"\n",
    "SyncDelay = pxie.Calibrate4One(awg0,200,10)\n",
    "pxie.init(awg0, SyncDelay)"
   ]
  },
  {
   "cell_type": "code",
   "execution_count": null,
   "id": "5f15ff2d",
   "metadata": {},
   "outputs": [],
   "source": [
    "#Use\n",
    "# 硬件复位\n",
    "pxie.HardReset(awg0)\n",
    "# 加载操作\n",
    "pxie.LoadSeq(\"DDS\",awg0,Inst)\n",
    "# 运行操作\n",
    "pxie.SysTrigger(awg0)\n",
    "# 数据收集\n",
    "pxie.ReceiveData(awg0,TimeOut=1000)"
   ]
  }
 ],
 "metadata": {
  "kernelspec": {
   "display_name": "base",
   "language": "python",
   "name": "python3"
  },
  "language_info": {
   "codemirror_mode": {
    "name": "ipython",
    "version": 3
   },
   "file_extension": ".py",
   "mimetype": "text/x-python",
   "name": "python",
   "nbconvert_exporter": "python",
   "pygments_lexer": "ipython3",
   "version": "3.10.12"
  }
 },
 "nbformat": 4,
 "nbformat_minor": 5
}
