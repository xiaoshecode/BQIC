{
 "cells": [
  {
   "cell_type": "code",
   "execution_count": 1,
   "metadata": {},
   "outputs": [
    {
     "name": "stdout",
     "output_type": "stream",
     "text": [
      "[[dds0.s0 = [100, 0.5, 0], dds1.s0 = [110, 0.6, 0], dds2.s0 = [120, 0.7, 0], dds3.s0 = [130, 0.8, 0], 2, 4], [dds0.s0 = [100, 0.5, 0], dds1.s0 = [110, 0.6, 0], dds2.s0 = [120, 0.7, 0], dds3.s0 = [130, 0.8, 0], dds12.s0 = [100, 0.2, 0], dds13.s0 = [100, 0.2, 0], dds14.s0 = [100, 0.2, 0], dds15.s0 = [100, 0.2, 0], 3, 5]]\n",
      "序列准备好了\n",
      "dds0.s0 = [100, 0.5, 0]\n",
      "dds0\n",
      "100\n",
      "0.5\n",
      "0\n",
      "21\n"
     ]
    },
    {
     "data": {
      "text/plain": [
       "True"
      ]
     },
     "execution_count": 1,
     "metadata": {},
     "output_type": "execute_result"
    }
   ],
   "source": [
    "from DDS_Seq import DDS, Seq\n",
    "from DDS_config import *\n",
    "\n",
    "import sys\n",
    "import os\n",
    "sys.path.append('..')\n",
    "\n",
    "from compiler.Opfunc.OpfuncPulse import OpfuncPulse\n",
    "from compiler.Opfunc.OpfuncRF_DDS import OpfuncRF_DDS\n",
    "\n",
    "import re\n",
    "\n",
    "def extract_number(string):\n",
    "    # 使用正则表达式匹配所有数字\n",
    "    numbers = re.findall(r'\\d+', string)\n",
    "    # 如果找到数字，返回第一个数字\n",
    "    if numbers:\n",
    "        return int(numbers[0])\n",
    "    # 如果没有找到数字，返回None\n",
    "    return None\n",
    "# first, initialize the sequence\n",
    "DDS.VERBOSE = True\n",
    "# print(DDS.All)\n",
    "# print(len(DDS.List))\n",
    "# detection\n",
    "# seq = Seq().S0(4)\n",
    "seq = Seq().S0(4).S1(5)  # 序列\n",
    "print(seq)\n",
    "# rd_seq = seq.compile()\n",
    "# print(seq.compile())\n",
    "# print(seq.compile(4))\n",
    "print(\"序列准备好了\")\n",
    "seqs = seq.seq\n",
    "print(seqs[0][0])\n",
    "print(seqs[0][0].name[0])\n",
    "print(seqs[0][0][0])\n",
    "print(seqs[0][0][1])\n",
    "print(seqs[0][0][2])\n",
    "print(extract_number(\"dds21\"))\n",
    "type(seqs[0][0])==type(DDS(\"dds\"))"
   ]
  },
  {
   "cell_type": "code",
   "execution_count": 2,
   "metadata": {},
   "outputs": [],
   "source": [
    "from typing import List\n",
    "dds: List[OpfuncRF_DDS] = [OpfuncRF_DDS(DeviceID=i) for i in range(16)]\n",
    "ttl: List[OpfuncPulse] = [OpfuncPulse(DeviceID=i) for i in range(16)]"
   ]
  },
  {
   "cell_type": "code",
   "execution_count": 3,
   "metadata": {},
   "outputs": [
    {
     "name": "stdout",
     "output_type": "stream",
     "text": [
      "Bell序列: [[['dds', 0, 100, 0.5, 0, 4], ['dds', 1, 110, 0.6, 0, 4], ['dds', 2, 120, 0.7, 0, 4], ['dds', 3, 130, 0.8, 0, 4], ['TTL', 2, 1, 4]], [['dds', 0, 100, 0.5, 0, 5], ['dds', 1, 110, 0.6, 0, 5], ['dds', 2, 120, 0.7, 0, 5], ['dds', 3, 130, 0.8, 0, 5], ['dds', 12, 100, 0.2, 0, 5], ['dds', 13, 100, 0.2, 0, 5], ['dds', 14, 100, 0.2, 0, 5], ['dds', 15, 100, 0.2, 0, 5], ['TTL', 3, 1, 5]]]\n"
     ]
    }
   ],
   "source": [
    "def compile2Bell(seqs): # RTMQv1.0 transfer to Bell\n",
    "    \"\"\"\n",
    "    将序列转换为Bell硬件执行的IR   \n",
    "    每个dds通道有4个参数[f,a,p,t]\n",
    "    每个ttl通道有3个参数[mode,address]，暂时用来计数input , [mode, delay]\n",
    "    \"\"\"\n",
    "    seq_len = len(seqs)\n",
    "    seq4Bell = []\n",
    "    for seq in seqs:\n",
    "        # 逆序遍历\n",
    "        Flag_TTL = False\n",
    "        Flag_Delay = False\n",
    "        delay = 0\n",
    "        DDSList = []\n",
    "        for item in seq[::-1]:\n",
    "            if type(item)==type(DDS(\"dds\")):\n",
    "                # print(\"dds\")\n",
    "                DeviceID = extract_number(item.name[0])\n",
    "                Freq = item[0]\n",
    "                Amp = item[1]\n",
    "                Phase = item[2]\n",
    "                DDSList.append([\"dds\",DeviceID, Freq, Amp, Phase,delay])\n",
    "            elif Flag_Delay == False:\n",
    "                delay = item # 读取延时\n",
    "                Flag_Delay = True\n",
    "                # print(\"delay:\", delay)\n",
    "            elif Flag_TTL==False: # 读取TTL\n",
    "                TTL = item\n",
    "                mode = 1\n",
    "                # if mode == #TTL mode 在硬件中不能导入\n",
    "                Flag_TTL = True\n",
    "\n",
    "                # print(\"TTL channel:\", TTL)\n",
    "        DDSList.reverse() # 反转顺序\n",
    "        DDSList.append([\"TTL\",TTL, mode, delay])\n",
    "        # print(\"DDSList:\", DDSList)\n",
    "        seq4Bell.append(DDSList)\n",
    "    # print(\"Bell序列:\", seq4Bell)\n",
    "    return seq4Bell\n",
    "seqsIR = compile2Bell(seqs)\n",
    "print(\"Bell序列:\", seqsIR)"
   ]
  },
  {
   "cell_type": "code",
   "execution_count": 4,
   "metadata": {},
   "outputs": [
    {
     "name": "stdout",
     "output_type": "stream",
     "text": [
      "[[['dds', 0, 100, 0.5, 0, 4], ['dds', 1, 110, 0.6, 0, 4], ['dds', 2, 120, 0.7, 0, 4], ['dds', 3, 130, 0.8, 0, 4], ['TTL', 2, 1, 4]], [['dds', 0, 100, 0.5, 0, 5], ['dds', 1, 110, 0.6, 0, 5], ['dds', 2, 120, 0.7, 0, 5], ['dds', 3, 130, 0.8, 0, 5], ['dds', 12, 100, 0.2, 0, 5], ['dds', 13, 100, 0.2, 0, 5], ['dds', 14, 100, 0.2, 0, 5], ['dds', 15, 100, 0.2, 0, 5], ['TTL', 3, 1, 5]]]\n",
      "4\n"
     ]
    }
   ],
   "source": [
    "# IR to Bell hardware \n",
    "\"\"\"\n",
    "这个函数用来将IR数据结构转换成Bell机器码，暂不考虑跳转格式\n",
    "\"\"\"\n",
    "print(seqsIR)\n",
    "print(seqsIR[0][4][3])"
   ]
  },
  {
   "cell_type": "code",
   "execution_count": null,
   "metadata": {},
   "outputs": [
    {
     "name": "stdout",
     "output_type": "stream",
     "text": [
      "[]\n",
      "[b'\\x00\\x00\\x00\\x05ffff\\x00\\x00\\x00\\x00\\x00\\x00\\x80\\x00']\n",
      "[b'\\x00\\x00\\x00\\x05ffff\\x00\\x00\\x00\\x00\\x00\\x00\\x80\\x00', b'\\xff\\xff\\xff\\xff\\xff\\xff\\xff\\xff\\xff\\xff\\xff\\xff\\xff\\xff\\xff\\xff']\n",
      "[]\n",
      "[b'\\x00\\x00\\x00\\x05p\\xa3\\xd7\\n\\x00\\x00\\x00\\x00\\x00\\x00\\x99\\x99']\n",
      "[b'\\x00\\x00\\x00\\x05p\\xa3\\xd7\\n\\x00\\x00\\x00\\x00\\x00\\x00\\x99\\x99', b'\\xff\\xff\\xff\\xff\\xff\\xff\\xff\\xff\\xff\\xff\\xff\\xff\\xff\\xff\\xff\\xff']\n",
      "[]\n",
      "[b'\\x00\\x00\\x00\\x05z\\xe1G\\xae\\x00\\x00\\x00\\x00\\x00\\x00\\xb33']\n",
      "[b'\\x00\\x00\\x00\\x05z\\xe1G\\xae\\x00\\x00\\x00\\x00\\x00\\x00\\xb33', b'\\xff\\xff\\xff\\xff\\xff\\xff\\xff\\xff\\xff\\xff\\xff\\xff\\xff\\xff\\xff\\xff']\n",
      "[]\n",
      "[b'\\x00\\x00\\x00\\x05\\x85\\x1e\\xb8Q\\x00\\x00\\x00\\x00\\x00\\x00\\xcc\\xcc']\n",
      "[b'\\x00\\x00\\x00\\x05\\x85\\x1e\\xb8Q\\x00\\x00\\x00\\x00\\x00\\x00\\xcc\\xcc', b'\\xff\\xff\\xff\\xff\\xff\\xff\\xff\\xff\\xff\\xff\\xff\\xff\\xff\\xff\\xff\\xff']\n"
     ]
    }
   ],
   "source": [
    "for i in range(16):\n",
    "    dds[i].reset()\n",
    "    # print(dds[i].read_state())\n",
    "\n",
    "for seq in seqsIR:\n",
    "    for item in seq:\n",
    "        if item[0] == \"dds\":\n",
    "            dds[item[1]].setwaveform(item[2], item[3], item[4], item[5])\n",
    "        elif item[0] == \"TTL\":\n",
    "            # ttl[item[1]].reset()\n",
    "            ttl[item[1]].setwaveform(\"output\",0,1,item[3]) #设置为输出模式\n",
    "\n",
    "for i in range(4):\n",
    "    # print(dds[i].read_state())\n",
    "    print(dds[i].read_arrays())\n",
    "    dds[i].gen_assembler()\n",
    "    print(dds[i].read_arrays())\n",
    "    dds[i].adjust_array_length()\n",
    "    print(dds[i].read_arrays())"
   ]
  },
  {
   "cell_type": "code",
   "execution_count": 8,
   "metadata": {},
   "outputs": [
    {
     "name": "stdout",
     "output_type": "stream",
     "text": [
      "[b'\\x00\\x00\\x00\\x05ffff\\x00\\x00\\x00\\x00\\x00\\x00\\x80\\x00', b'\\xff\\xff\\xff\\xff\\xff\\xff\\xff\\xff\\xff\\xff\\xff\\xff\\xff\\xff\\xff\\xff']\n",
      "[b'\\x00\\x00\\x00\\x05p\\xa3\\xd7\\n\\x00\\x00\\x00\\x00\\x00\\x00\\x99\\x99', b'\\xff\\xff\\xff\\xff\\xff\\xff\\xff\\xff\\xff\\xff\\xff\\xff\\xff\\xff\\xff\\xff']\n",
      "[b'\\x00\\x00\\x00\\x05z\\xe1G\\xae\\x00\\x00\\x00\\x00\\x00\\x00\\xb33', b'\\xff\\xff\\xff\\xff\\xff\\xff\\xff\\xff\\xff\\xff\\xff\\xff\\xff\\xff\\xff\\xff']\n",
      "[b'\\x00\\x00\\x00\\x05\\x85\\x1e\\xb8Q\\x00\\x00\\x00\\x00\\x00\\x00\\xcc\\xcc', b'\\xff\\xff\\xff\\xff\\xff\\xff\\xff\\xff\\xff\\xff\\xff\\xff\\xff\\xff\\xff\\xff']\n",
      "data: [[b'\\x00\\x00\\x00\\x05ffff\\x00\\x00\\x00\\x00\\x00\\x00\\x80\\x00', b'\\xff\\xff\\xff\\xff\\xff\\xff\\xff\\xff\\xff\\xff\\xff\\xff\\xff\\xff\\xff\\xff'], [b'\\x00\\x00\\x00\\x05p\\xa3\\xd7\\n\\x00\\x00\\x00\\x00\\x00\\x00\\x99\\x99', b'\\xff\\xff\\xff\\xff\\xff\\xff\\xff\\xff\\xff\\xff\\xff\\xff\\xff\\xff\\xff\\xff'], [b'\\x00\\x00\\x00\\x05z\\xe1G\\xae\\x00\\x00\\x00\\x00\\x00\\x00\\xb33', b'\\xff\\xff\\xff\\xff\\xff\\xff\\xff\\xff\\xff\\xff\\xff\\xff\\xff\\xff\\xff\\xff'], [b'\\x00\\x00\\x00\\x05\\x85\\x1e\\xb8Q\\x00\\x00\\x00\\x00\\x00\\x00\\xcc\\xcc', b'\\xff\\xff\\xff\\xff\\xff\\xff\\xff\\xff\\xff\\xff\\xff\\xff\\xff\\xff\\xff\\xff']]\n"
     ]
    }
   ],
   "source": [
    "# 针对一块板卡生成dds配置文件\n",
    "data = []\n",
    "for i in range(4):\n",
    "    print(dds[i].read_arrays())\n",
    "    array_128bit = dds[i].read_arrays()\n",
    "    data.append(array_128bit)\n",
    "print(\"data:\", data)"
   ]
  },
  {
   "cell_type": "code",
   "execution_count": 9,
   "metadata": {},
   "outputs": [],
   "source": [
    "def merge_param_files_with_header(file1, output_file):\n",
    "    with open(file1, 'r') as f1:\n",
    "        lines1 = f1.readlines()\n",
    "    total_lines = len(lines1)\n",
    "    total_lines_hex = format(total_lines, '04x')\n",
    "    header = f\"eb9c55aa0002000000000000{total_lines_hex}0000\\n\"\n",
    "    merged_content = [header] + lines1\n",
    "    with open(output_file, 'w') as output:\n",
    "        output.writelines(merged_content)\n",
    "    print(f\"文件合并完成！新文件已保存到: {output_file}\")\n",
    "    print(f\"标头行: {header.strip()}\")"
   ]
  },
  {
   "cell_type": "code",
   "execution_count": null,
   "metadata": {},
   "outputs": [
    {
     "name": "stdout",
     "output_type": "stream",
     "text": [
      "文件合并完成！新文件已保存到: data/ddswithheader.txt\n",
      "标头行: eb9c55aa000200000000000000080000\n"
     ]
    }
   ],
   "source": [
    "for i in range(4):\n",
    "    dds[i].output2file(\"data/dds.txt\") #在下面续写，而不是覆盖重写\n",
    "merge_param_files_with_header(\"data/dds.txt\", \"data/ddswithheader.txt\")"
   ]
  }
 ],
 "metadata": {
  "kernelspec": {
   "display_name": "bell",
   "language": "python",
   "name": "python3"
  },
  "language_info": {
   "codemirror_mode": {
    "name": "ipython",
    "version": 3
   },
   "file_extension": ".py",
   "mimetype": "text/x-python",
   "name": "python",
   "nbconvert_exporter": "python",
   "pygments_lexer": "ipython3",
   "version": "3.10.16"
  }
 },
 "nbformat": 4,
 "nbformat_minor": 2
}
