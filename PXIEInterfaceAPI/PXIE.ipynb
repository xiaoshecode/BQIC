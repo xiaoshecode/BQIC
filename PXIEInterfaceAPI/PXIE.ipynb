{
 "cells": [
  {
   "cell_type": "code",
   "execution_count": null,
   "id": "110b4d02",
   "metadata": {},
   "outputs": [],
   "source": [
    "import ctypes,os\n",
    "import chardet\n",
    "import binascii\n",
    "import sys\n",
    "from sys import getsizeof\n",
    "\n",
    "import numpy as np\n",
    "import numpy.ctypeslib as npct\n",
    "\n",
    "import math\n",
    "import time\n",
    "import matplotlib.pyplot as plt\n",
    "\n",
    "import scipy as sp\n",
    "from scipy.optimize import curve_fit\n",
    "from scipy.fftpack import fft,ifft\n",
    "from scipy import signal\n",
    "from scipy.stats import norm\n",
    "from scipy.stats.stats import SpearmanrResult\n",
    "\n",
    "# import librasa\n",
    "\n",
    "# DRIVER_ELEC = ctypes.cdll.LoadLibrary(\"Driver_isa.dll\") #导入C++编译生成的动态链接库"
   ]
  },
  {
   "cell_type": "code",
   "execution_count": null,
   "id": "3aea45db",
   "metadata": {},
   "outputs": [],
   "source": [
    "def reverse_every_16_bytes(byte_array):\n",
    "    #将字节数组分成每16字节一组\n",
    "    chunks = [byte_array[i:i+16] for i in range(0,len(byte_array),16)]\n",
    "\n",
    "    # 对每一组进行翻转\n",
    "    reversed_chunks = [chunk[::-1] for chunk in chunks]\n",
    "    \n",
    "    # 将翻转后的组合并成一个新的字节数组\n",
    "    return b''.join(reversed_chunks)\n",
    "\n",
    "def print_hex(bytes):\n",
    "    l = [hex(int(i)) for i in bytes]\n",
    "    print(l)\n",
    "\n",
    "def extract_16byte_numbers(data):\n",
    "    \"\"\"\n",
    "    将数据每 16 个字节提取为一个大数，组成数组返回。\n",
    "    \n",
    "    参数:\n",
    "    - data: bytes 或 bytearray 类型，表示输入的二进制数据。\n",
    "    \n",
    "    返回:\n",
    "    - 一个数组，每个元素是从 16 字节解析出的整数。\n",
    "    \"\"\"\n",
    "    # 检查输入长度是否为16的倍数\n",
    "    if len(data) % 16 != 0:\n",
    "        raise ValueError(\"Input data length must be a multiple of 16 bytes.\")\n",
    "    else:\n",
    "        numbers = []\n",
    "        for i in range(0,len(data),16):\n",
    "            # 提取16字节\n"
   ]
  }
 ],
 "metadata": {
  "kernelspec": {
   "display_name": "base",
   "language": "python",
   "name": "python3"
  },
  "language_info": {
   "name": "python",
   "version": "3.10.12"
  }
 },
 "nbformat": 4,
 "nbformat_minor": 5
}
