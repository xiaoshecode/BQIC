{
 "cells": [
  {
   "cell_type": "markdown",
   "id": "28d8dbd6-39d6-4fc3-9b1d-96740d363a36",
   "metadata": {},
   "source": [
    "## import"
   ]
  },
  {
   "cell_type": "code",
   "execution_count": 1,
   "id": "4622312b-7821-431c-9658-8652798e1cd4",
   "metadata": {},
   "outputs": [],
   "source": [
    "import numpy as np\n",
    "import matplotlib.pyplot as plt\n",
    "from scipy.special import genlaguerre, factorial\n",
    "from scipy.optimize import curve_fit"
   ]
  },
  {
   "cell_type": "markdown",
   "id": "5c927439-a6e2-4659-ab46-c48f09466cfa",
   "metadata": {},
   "source": [
    "## Constant definition and calculation"
   ]
  },
  {
   "cell_type": "code",
   "execution_count": 47,
   "id": "3c36bb31-8a45-41c7-b1f3-34afc94d14d5",
   "metadata": {},
   "outputs": [],
   "source": [
    "kB = 1.38065*10**(-23)   #unit-Joule/Kelvin\n",
    "hbar = 1.05457*10**(-34)  #unit-Joule/Hz\n",
    "lamb = 411*10**(-9)   #unit-m\n",
    "amu = 1.66054*10**(-27)  #  kg\n",
    "mass = 171  #171Yb+\n",
    "frequency = 1.7*10**6  #Hz"
   ]
  },
  {
   "cell_type": "code",
   "execution_count": 48,
   "id": "d3bd9ca7-f73d-4af1-bd90-bb847b9b90c7",
   "metadata": {},
   "outputs": [],
   "source": [
    "eta = 2*np.pi/lamb*np.sqrt(hbar/2/2/np.pi/mass/amu/frequency)*np.cos(np.pi/4)"
   ]
  },
  {
   "cell_type": "code",
   "execution_count": 49,
   "id": "c03a8fa2-04f0-4e05-88bb-27a333cd1e25",
   "metadata": {},
   "outputs": [
    {
     "data": {
      "text/plain": [
       "0.04507218749155942"
      ]
     },
     "execution_count": 49,
     "metadata": {},
     "output_type": "execute_result"
    }
   ],
   "source": [
    "eta"
   ]
  },
  {
   "cell_type": "markdown",
   "id": "bc32cdee-7f4a-4d9c-8dd2-86ecf5aedd7a",
   "metadata": {},
   "source": [
    "## function definition"
   ]
  },
  {
   "cell_type": "code",
   "execution_count": 5,
   "id": "d47ff1de-44ac-48cc-bfc6-e6dd05b28fa6",
   "metadata": {},
   "outputs": [],
   "source": [
    "def pthermal_gen(nbar):\n",
    "    plist = []\n",
    "    i = 0\n",
    "    while nbar**i/(nbar+1)**i > 0.01:\n",
    "        plist.append(nbar**i/(nbar+1)**(i+1))\n",
    "        i += 1\n",
    "    return np.array(plist)"
   ]
  },
  {
   "cell_type": "code",
   "execution_count": 13,
   "id": "ba0dfc1c-faed-4c43-b52d-0a080b79032d",
   "metadata": {},
   "outputs": [],
   "source": [
    "def Omegarsb(eta, Omega, n):\n",
    "    return 2*np.pi*Omega*np.exp(-eta**2/2)*np.sqrt(np.array(factorial(n-1, exact=True)/factorial(n, exact=True)).astype(float))*eta*genlaguerre(n-1, 1)(eta**2)"
   ]
  },
  {
   "cell_type": "code",
   "execution_count": 53,
   "id": "38d59a1a-2669-4170-bb1e-a89fbe4a0ed7",
   "metadata": {},
   "outputs": [],
   "source": [
    "def Omegacar(eta, Omega, n):\n",
    "    \n",
    "    omega = 1\n",
    "    if type(eta) is not list:\n",
    "        omega = 2*np.pi*Omega*np.exp(-eta**2/2)*genlaguerre(n, 0)(eta**2)\n",
    "        \n",
    "    else:\n",
    "        assert len(n) == len(eta)\n",
    "        omega = 2*np.pi*Omega\n",
    "        for i in range(len(eta)):\n",
    "            omega = omega*np.exp(-eta[i]**2/2)*genlaguerre(n[i], 0)(eta[i]**2)\n",
    "    return omega"
   ]
  },
  {
   "cell_type": "code",
   "execution_count": 54,
   "id": "f860adde-f836-4646-bd5e-038c6b242def",
   "metadata": {},
   "outputs": [],
   "source": [
    "def carrier_rabi_decay(t, Omega, nbar):\n",
    "    y = 0\n",
    "    plist0 = pthermal_gen(nbar[0])\n",
    "    plist1 = pthermal_gen(nbar[1])\n",
    "    for i in range(len(plist0)):\n",
    "        for j in range(len(plist1)):\n",
    "            Omegan = Omegacar([0.045, 0.05], Omega, [i,j])\n",
    "            y += plist0[i]*plist1[j]*np.cos(Omegan*t/2)**2\n",
    "        \n",
    "    return y"
   ]
  },
  {
   "cell_type": "code",
   "execution_count": 55,
   "id": "66b8798d",
   "metadata": {},
   "outputs": [],
   "source": [
    "t = np.linspace(0, 100, 1000)\n",
    "pop = carrier_rabi_decay(t, 0.02, [14, 17])"
   ]
  },
  {
   "cell_type": "code",
   "execution_count": 57,
   "id": "4ebe276a",
   "metadata": {},
   "outputs": [
    {
     "data": {
      "text/plain": [
       "0.015449292594242351"
      ]
     },
     "execution_count": 57,
     "metadata": {},
     "output_type": "execute_result"
    }
   ],
   "source": [
    "carrier_rabi_decay(25, 0.02, [14,17])"
   ]
  },
  {
   "cell_type": "code",
   "execution_count": 56,
   "id": "8cc7474c",
   "metadata": {},
   "outputs": [
    {
     "data": {
      "text/plain": [
       "[<matplotlib.lines.Line2D at 0x14d51c0a760>]"
      ]
     },
     "execution_count": 56,
     "metadata": {},
     "output_type": "execute_result"
    },
    {
     "data": {
      "image/png": "[encoded data removed]",
      "text/plain": [
       "<Figure size 640x480 with 1 Axes>"
      ]
     },
     "metadata": {},
     "output_type": "display_data"
    }
   ],
   "source": [
    "plt.plot(t, pop, 'o')"
   ]
  },
  {
   "cell_type": "code",
   "execution_count": 59,
   "id": "a42a3d26",
   "metadata": {},
   "outputs": [
    {
     "data": {
      "text/plain": [
       "array([26.72672673])"
      ]
     },
     "execution_count": 59,
     "metadata": {},
     "output_type": "execute_result"
    }
   ],
   "source": [
    "t[np.where(pop==np.min(pop))]"
   ]
  },
  {
   "cell_type": "code",
   "execution_count": 70,
   "id": "3df4bfd4",
   "metadata": {},
   "outputs": [
    {
     "data": {
      "text/plain": [
       "0.068"
      ]
     },
     "execution_count": 70,
     "metadata": {},
     "output_type": "execute_result"
    }
   ],
   "source": [
    "1.7/25"
   ]
  },
  {
   "cell_type": "code",
   "execution_count": 69,
   "id": "49cd27f1",
   "metadata": {},
   "outputs": [
    {
     "data": {
      "text/plain": [
       "0.024471741852423266"
      ]
     },
     "execution_count": 69,
     "metadata": {},
     "output_type": "execute_result"
    }
   ],
   "source": [
    "np.cos((1+0.1)*np.pi/2)**2"
   ]
  },
  {
   "cell_type": "code",
   "execution_count": 58,
   "id": "8659e463",
   "metadata": {},
   "outputs": [
    {
     "data": {
      "text/plain": [
       "0.005299217922429098"
      ]
     },
     "execution_count": 58,
     "metadata": {},
     "output_type": "execute_result"
    }
   ],
   "source": [
    "np.min(pop)"
   ]
  },
  {
   "cell_type": "code",
   "execution_count": 86,
   "id": "12f4034c-6a38-4a8c-a248-157fdfd02ece",
   "metadata": {},
   "outputs": [],
   "source": [
    "plist = pthermal_gen(10)"
   ]
  },
  {
   "cell_type": "code",
   "execution_count": 71,
   "id": "21371466-1ef7-4016-8bde-908fadbe21ab",
   "metadata": {},
   "outputs": [
    {
     "data": {
      "text/plain": [
       "0.9906295935925492"
      ]
     },
     "execution_count": 71,
     "metadata": {},
     "output_type": "execute_result"
    }
   ],
   "source": [
    "np.sum(plist)"
   ]
  },
  {
   "cell_type": "code",
   "execution_count": 42,
   "id": "f2d5e75d-e0b3-47b0-82a7-f3cbe1aef7ac",
   "metadata": {},
   "outputs": [
    {
     "data": {
      "text/plain": [
       "[<matplotlib.lines.Line2D at 0x14d519c9880>]"
      ]
     },
     "execution_count": 42,
     "metadata": {},
     "output_type": "execute_result"
    },
    {
     "data": {
      "image/png": "[encoded data removed]",
      "text/plain": [
       "<Figure size 640x480 with 1 Axes>"
      ]
     },
     "metadata": {},
     "output_type": "display_data"
    }
   ],
   "source": [
    "omega = []\n",
    "N=200\n",
    "for n in range(N):\n",
    "    omega.append(Omegarsb(0.13, 200, n+1))\n",
    "    # omega.append(Omegacar(0.13, 200, n+1))\n",
    "plt.plot(range(N), omega)"
   ]
  },
  {
   "cell_type": "code",
   "execution_count": 88,
   "id": "179325a5-1455-4f73-8227-8fd8df4638be",
   "metadata": {},
   "outputs": [],
   "source": [
    "def SBC_FO_once_M(t, plist, eta, Omega):\n",
    "    n = len(plist)\n",
    "    W_mat = np.zeros((n,n))\n",
    "    for i in range(n):\n",
    "        if i == 0:\n",
    "            ai = 1\n",
    "            bi1 = np.sin(Omegarsb(eta, Omega, 1)*t/2)**2\n",
    "        else:\n",
    "            ai = np.cos(Omegarsb(eta, Omega, i)*t/2)**2\n",
    "            bi1  = np.sin(Omegarsb(eta, Omega, i+1)*t/2)**2\n",
    "        W_mat[i, i] = ai\n",
    "        if i < n-1:\n",
    "            W_mat[i, i+1] = bi1\n",
    "            \n",
    "    return W_mat"
   ]
  },
  {
   "cell_type": "code",
   "execution_count": 89,
   "id": "a094005c-051f-48ee-99e9-103a847609cb",
   "metadata": {},
   "outputs": [],
   "source": [
    "def heating_matrix(t, plist, gamma):\n",
    "    n = len(plist)\n",
    "    H_mat = np.zeros((n,n))\n",
    "    \n",
    "    transition_rate_thr = 0.2\n",
    "    dt = transition_rate_thr/gamma/(2*n + 1)\n",
    "    m = int(t/dt) + 1\n",
    "    dt = np.min([t, dt])\n",
    "    for i in range(n):\n",
    "        if i == n-1:\n",
    "            H_mat[i, i-1] = gamma*i*dt\n",
    "            H_mat[i, i] = -gamma * (2*i+1) *dt\n",
    "        elif i == 0:\n",
    "            H_mat[i, i] = -gamma * (2*i+1) *dt\n",
    "            H_mat[i, i+1] = gamma * (i+1) *dt\n",
    "        else:\n",
    "            H_mat[i, i-1] = gamma*i *dt\n",
    "            H_mat[i, i] = -gamma * (2*i+1) *dt\n",
    "            H_mat[i, i+1] = gamma * (i+1) *dt\n",
    "\n",
    "    return np.linalg.matrix_power(np.eye(n)+H_mat, m)"
   ]
  },
  {
   "cell_type": "code",
   "execution_count": 90,
   "id": "1661964a-3bee-4412-9e17-760c482d5d11",
   "metadata": {},
   "outputs": [],
   "source": [
    "M = SBC_FO_once_M(0.01, plist, 0.05, 200)"
   ]
  },
  {
   "cell_type": "code",
   "execution_count": 91,
   "id": "bdc36851-6b11-43d0-a2d9-4fff8b2c8537",
   "metadata": {},
   "outputs": [],
   "source": [
    "M20 = M**25"
   ]
  },
  {
   "cell_type": "code",
   "execution_count": 92,
   "id": "e507a286-4877-47f9-83fb-169591cef5c6",
   "metadata": {},
   "outputs": [
    {
     "data": {
      "text/plain": [
       "<matplotlib.colorbar.Colorbar at 0x1a1e7ceed90>"
      ]
     },
     "execution_count": 92,
     "metadata": {},
     "output_type": "execute_result"
    },
    {
     "data": {
      "image/png": "[encoded data removed]",
      "text/plain": [
       "<Figure size 640x480 with 2 Axes>"
      ]
     },
     "metadata": {},
     "output_type": "display_data"
    }
   ],
   "source": [
    "# plt.figure(figsize=(10,10))\n",
    "plt.imshow(np.linalg.matrix_power(M, 40))\n",
    "plt.colorbar()"
   ]
  },
  {
   "cell_type": "code",
   "execution_count": 93,
   "id": "88488f89-7bcb-467b-ad0b-b5b74eca8efc",
   "metadata": {},
   "outputs": [
    {
     "data": {
      "text/plain": [
       "<matplotlib.colorbar.Colorbar at 0x1a1e7b3d580>"
      ]
     },
     "execution_count": 93,
     "metadata": {},
     "output_type": "execute_result"
    },
    {
     "data": {
      "image/png": "[encoded data removed]",
      "text/plain": [
       "<Figure size 640x480 with 2 Axes>"
      ]
     },
     "metadata": {},
     "output_type": "display_data"
    }
   ],
   "source": [
    "# plt.figure(figsize=(10,10))\n",
    "plt.imshow(np.linalg.matrix_power(heating_matrix(0.05, plist, 0.2), 30))\n",
    "plt.colorbar()"
   ]
  },
  {
   "cell_type": "code",
   "execution_count": 18,
   "id": "83d45c0c-7abc-4169-8d18-06a31f8436ab",
   "metadata": {},
   "outputs": [
    {
     "data": {
      "text/plain": [
       "array([0.   , 0.   , 0.   , 0.   , 0.01 , 0.978, 0.012, 0.   , 0.   ,\n",
       "       0.   , 0.   , 0.   , 0.   , 0.   , 0.   , 0.   , 0.   , 0.   ,\n",
       "       0.   , 0.   , 0.   , 0.   , 0.   , 0.   , 0.   , 0.   , 0.   ,\n",
       "       0.   , 0.   , 0.   , 0.   , 0.   , 0.   , 0.   , 0.   , 0.   ,\n",
       "       0.   , 0.   , 0.   , 0.   , 0.   , 0.   , 0.   , 0.   , 0.   ,\n",
       "       0.   , 0.   , 0.   , 0.   ])"
      ]
     },
     "execution_count": 18,
     "metadata": {},
     "output_type": "execute_result"
    }
   ],
   "source": [
    "heating_matrix(0.01, plist, 0.2)[:, 5]"
   ]
  },
  {
   "cell_type": "code",
   "execution_count": 96,
   "id": "cbf77434-86e1-4f7b-a27a-d8adee416cb5",
   "metadata": {},
   "outputs": [],
   "source": [
    "def nbar_after_SBC(t, plist_init, eta, Omega, Ncycle):\n",
    "    W_mat = SBC_FO_once_M(t, plist_init, eta, Omega)\n",
    "    W_tot = np.linalg.matrix_power(W_mat, Ncycle)\n",
    "    \n",
    "    plist_final = W_tot @ plist_init\n",
    "    nlist = np.array(range(len(plist_final)))\n",
    "    \n",
    "    nbar_final = np.sum(nlist*plist_final)\n",
    "    p_tot = np.sum(plist_final)\n",
    "    return nbar_final, plist_final, p_tot"
   ]
  },
  {
   "cell_type": "code",
   "execution_count": 97,
   "id": "b4a68a8e-44ba-47dd-964a-049e993e1ba4",
   "metadata": {},
   "outputs": [],
   "source": [
    "def nbar_after_SBCheating(t, plist_init, t_wait, eta, Omega, gamma, Ncycle):\n",
    "    W_mat = SBC_FO_once_M(t, plist_init, eta, Omega)\n",
    "    H_mat = heating_matrix(t, plist_init, gamma)\n",
    "    H_mat_wait = heating_matrix(t_wait, plist_init, gamma)\n",
    "    M_tot_m = H_mat_wait @ (W_mat @ H_mat+H_mat @ W_mat)/2\n",
    "    # print(np.sum((W_mat @ H_mat)[:, 5]))\n",
    "    \n",
    "    M_tot = np.linalg.matrix_power(M_tot_m, Ncycle)\n",
    "    \n",
    "    plist_final = M_tot @ plist_init\n",
    "    nlist = np.array(range(len(plist_final)))\n",
    "    \n",
    "    nbar_final = np.sum(nlist*plist_final)\n",
    "    p_tot = np.sum(plist_final)\n",
    "    return nbar_final, plist_final, p_tot, M_tot"
   ]
  },
  {
   "cell_type": "code",
   "execution_count": 98,
   "id": "dc775633-5cf6-4a08-a6f7-5bfed2c3608d",
   "metadata": {},
   "outputs": [],
   "source": [
    "plist_init = pthermal_gen(15)\n",
    "nbar, plist, p_tot = nbar_after_SBC(0.05, plist_init, 0.05, 100, 40)"
   ]
  },
  {
   "cell_type": "code",
   "execution_count": 99,
   "id": "e9466cfc-ba03-4057-8c6f-df29faafa532",
   "metadata": {},
   "outputs": [
    {
     "data": {
      "text/plain": [
       "7.415578588299305"
      ]
     },
     "execution_count": 99,
     "metadata": {},
     "output_type": "execute_result"
    }
   ],
   "source": [
    "nbar"
   ]
  },
  {
   "cell_type": "code",
   "execution_count": 100,
   "id": "db843716-42f5-48dd-8048-42b87ed6664b",
   "metadata": {},
   "outputs": [],
   "source": [
    "plist_init = pthermal_gen(12)\n",
    "nbar, plist, p_tot, M_tot = nbar_after_SBCheating(0.04, plist_init, 0.07, 0.038, 71.4, 0.2, 70)"
   ]
  },
  {
   "cell_type": "code",
   "execution_count": 24,
   "id": "e754ac04-907c-4fe5-a909-c6b8038938fe",
   "metadata": {},
   "outputs": [
    {
     "data": {
      "text/plain": [
       "1.9444610715423223"
      ]
     },
     "execution_count": 24,
     "metadata": {},
     "output_type": "execute_result"
    }
   ],
   "source": [
    "nbar"
   ]
  },
  {
   "cell_type": "markdown",
   "id": "5bf11cbc-6a62-433b-a2a2-04556fa52c82",
   "metadata": {},
   "source": [
    "## Gradient descent"
   ]
  },
  {
   "cell_type": "code",
   "execution_count": 101,
   "id": "d6109e27-6b8e-426b-9226-3f87a1f85dfe",
   "metadata": {},
   "outputs": [],
   "source": [
    "def gradient_descent(f, k, dx_eps, y_eps, x, dx):\n",
    "    y0 = f(x)\n",
    "    N = 0\n",
    "    while (np.abs(dx) > dx_eps) and (y0 > y_eps):\n",
    "        y1 = f(dx+x)\n",
    "        df = y1 - y0\n",
    "        x = x + dx\n",
    "        dx = -k*df/dx\n",
    "        y0 = y1\n",
    "        N += 1\n",
    "        # print(dx)\n",
    "        \n",
    "        if N > 1000:\n",
    "            print(\"not found the optimal value in 1000 trial\")\n",
    "            break\n",
    "        \n",
    "    return y0, x, N"
   ]
  },
  {
   "cell_type": "code",
   "execution_count": 102,
   "id": "de24b827-3041-49db-8423-d5bddf470d97",
   "metadata": {},
   "outputs": [],
   "source": [
    "def gradient_descent_mp(f, dx_eps, y_eps, k, x, dx, lower_bound, upper_bound):\n",
    "    assert len(x)==len(dx)\n",
    "    \n",
    "    x = np.array(x)\n",
    "    dx = np.array(dx)\n",
    "    lower_bound = np.array(lower_bound)\n",
    "    upper_bound = np.array(upper_bound)\n",
    "    n = len(x)\n",
    "    basis = np.eye(n)\n",
    "    dy_basis = np.zeros(n)\n",
    "    y0 = f(x)\n",
    "    N = 0\n",
    "    y = [y0]\n",
    "    while (np.sqrt(np.sum(dx**2)) > dx_eps) and (y0 > y_eps):\n",
    "\n",
    "        if np.sum(((x+dx)>lower_bound) & ((x+dx)<upper_bound)) == n:\n",
    "            for i in range(n):\n",
    "                dy_basis[i] = f(dx*basis[i, :]+x) - y0\n",
    "            x = x + dx\n",
    "            y0 = f(x)\n",
    "            dx = -k*dy_basis/dx\n",
    "        elif np.sum((x+dx)>lower_bound) < n:\n",
    "            for i in range(n):\n",
    "                dx[i] = np.max((lower_bound-x)[i], dx[i])\n",
    "            for i in range(n):\n",
    "                dy_basis[i] = f(dx*basis[i, :]+x) - y0\n",
    "            x = x + dx\n",
    "            y0 = f(x)\n",
    "            dx = -k*dy_basis/dx\n",
    "        \n",
    "        else:\n",
    "            for i in range(n):\n",
    "                dx[i] = np.min((upper_bound-x)[i], dx[i])\n",
    "            for i in range(n):\n",
    "                dy_basis[i] = f(dx*basis[i, :]+x) - y0\n",
    "            x = x + dx\n",
    "            y0 = f(x)\n",
    "            dx = -k*dy_basis/dx \n",
    "            \n",
    "        y.append(y0)\n",
    "        N += 1\n",
    "        \n",
    "        \n",
    "        if N > 1000:\n",
    "            print(\"not found the optimal value in 1000 trial\")\n",
    "            break\n",
    "        \n",
    "    return y, x, N"
   ]
  },
  {
   "cell_type": "code",
   "execution_count": null,
   "id": "dc43f26d-64a7-462d-b8c7-caa0a0d403e6",
   "metadata": {},
   "outputs": [],
   "source": [
    "def cost_func(t):\n",
    "    Ncycle = 10  # number of pulsed SBC cycle\n",
    "    Omega = 110  #kHz\n",
    "    nbar_init = 2  #average phonon num after Doppler cooling\n",
    "    t_wait = 0.06\n",
    "    eta = 0.0502  \n",
    "    gamma = 0.002\n",
    "    plist_init = pthermal_gen(nbar_init)\n",
    "    # nbar_final, plist, p_tot = nbar_after_SBC(t, nbar_init, eta, Omega, Ncycle)  #t unit-ms\n",
    "    \n",
    "    nbar_final, plist, p_tot, M_tot = nbar_after_SBCheating(t, plist_init, t_wait, eta, Omega, gamma, Ncycle)  #t unit-ms\n",
    "    \n",
    "    return nbar_final"
   ]
  },
  {
   "cell_type": "code",
   "execution_count": 60,
   "id": "13dee5a7-9b6b-493b-bd8f-fb1f0363a702",
   "metadata": {},
   "outputs": [],
   "source": [
    "def cost_func_mp(t):\n",
    "    Ncycle = 60  # number of pulsed SBC cycle\n",
    "    Omega = 120  #kHz\n",
    "    nbar_init = 12  #average phonon num after Doppler cooling\n",
    "    t_wait = 0.06\n",
    "    eta = 0.0504  \n",
    "    gamma = 0.002\n",
    "    m = Ncycle//len(t)\n",
    "    Nres = Ncycle%len(t)\n",
    "    plist_init = pthermal_gen(nbar_init)\n",
    "    # nbar_final, plist, p_tot = nbar_after_SBC(t, nbar_init, eta, Omega, Ncycle)  #t unit-ms\n",
    "    for i in range(len(t)):\n",
    "        if i == 0:\n",
    "            n_seg = m + Nres\n",
    "        else:\n",
    "            n_seg = m\n",
    "        \n",
    "        nbar_final, plist, p_tot, M_tot = nbar_after_SBCheating(t[i], plist_init, t_wait, eta, Omega, gamma, n_seg)  #t unit-ms\n",
    "        plist_init = plist\n",
    "    \n",
    "    return nbar_final"
   ]
  },
  {
   "cell_type": "code",
   "execution_count": 56,
   "id": "f1ad3ba2-acd2-4c65-a70f-c80e574f6d69",
   "metadata": {
    "tags": []
   },
   "outputs": [
    {
     "ename": "TypeError",
     "evalue": "'numpy.float64' object cannot be interpreted as an integer",
     "output_type": "error",
     "traceback": [
      "\u001b[1;31m---------------------------------------------------------------------------\u001b[0m",
      "\u001b[1;31mTypeError\u001b[0m                                 Traceback (most recent call last)",
      "Cell \u001b[1;32mIn [56], line 1\u001b[0m\n\u001b[1;32m----> 1\u001b[0m y, x, N \u001b[38;5;241m=\u001b[39m \u001b[43mgradient_descent_mp\u001b[49m\u001b[43m(\u001b[49m\u001b[43mcost_func_mp\u001b[49m\u001b[43m,\u001b[49m\u001b[43m \u001b[49m\u001b[38;5;241;43m1e-5\u001b[39;49m\u001b[43m,\u001b[49m\u001b[43m \u001b[49m\u001b[38;5;241;43m0.1\u001b[39;49m\u001b[43m,\u001b[49m\u001b[43m \u001b[49m\u001b[38;5;241;43m1e-5\u001b[39;49m\u001b[43m,\u001b[49m\u001b[43m \u001b[49m\u001b[43m[\u001b[49m\u001b[38;5;241;43m0.009\u001b[39;49m\u001b[43m,\u001b[49m\u001b[43m \u001b[49m\u001b[38;5;241;43m0.012\u001b[39;49m\u001b[43m,\u001b[49m\u001b[43m \u001b[49m\u001b[38;5;241;43m0.021\u001b[39;49m\u001b[43m]\u001b[49m\u001b[43m,\u001b[49m\u001b[43m \u001b[49m\u001b[43m[\u001b[49m\u001b[38;5;241;43m0.005\u001b[39;49m\u001b[43m,\u001b[49m\u001b[43m \u001b[49m\u001b[38;5;241;43m0.005\u001b[39;49m\u001b[43m,\u001b[49m\u001b[43m \u001b[49m\u001b[38;5;241;43m0.005\u001b[39;49m\u001b[43m]\u001b[49m\u001b[43m,\u001b[49m\u001b[43m \u001b[49m\u001b[43m[\u001b[49m\u001b[38;5;241;43m0.001\u001b[39;49m\u001b[43m,\u001b[49m\u001b[43m \u001b[49m\u001b[38;5;241;43m0.001\u001b[39;49m\u001b[43m,\u001b[49m\u001b[43m \u001b[49m\u001b[38;5;241;43m0.001\u001b[39;49m\u001b[43m]\u001b[49m\u001b[43m,\u001b[49m\u001b[43m \u001b[49m\u001b[43m[\u001b[49m\u001b[38;5;241;43m0.2\u001b[39;49m\u001b[43m,\u001b[49m\u001b[43m \u001b[49m\u001b[38;5;241;43m0.2\u001b[39;49m\u001b[43m,\u001b[49m\u001b[43m \u001b[49m\u001b[38;5;241;43m0.2\u001b[39;49m\u001b[43m]\u001b[49m\u001b[43m)\u001b[49m\n",
      "Cell \u001b[1;32mIn [26], line 24\u001b[0m, in \u001b[0;36mgradient_descent_mp\u001b[1;34m(f, dx_eps, y_eps, k, x, dx, lower_bound, upper_bound)\u001b[0m\n\u001b[0;32m     22\u001b[0m \u001b[38;5;28;01melif\u001b[39;00m np\u001b[38;5;241m.\u001b[39msum((x\u001b[38;5;241m+\u001b[39mdx)\u001b[38;5;241m>\u001b[39mlower_bound) \u001b[38;5;241m<\u001b[39m n:\n\u001b[0;32m     23\u001b[0m     \u001b[38;5;28;01mfor\u001b[39;00m i \u001b[38;5;129;01min\u001b[39;00m \u001b[38;5;28mrange\u001b[39m(n):\n\u001b[1;32m---> 24\u001b[0m         dx[i] \u001b[38;5;241m=\u001b[39m \u001b[43mnp\u001b[49m\u001b[38;5;241;43m.\u001b[39;49m\u001b[43mmax\u001b[49m\u001b[43m(\u001b[49m\u001b[43m(\u001b[49m\u001b[43mlower_bound\u001b[49m\u001b[38;5;241;43m-\u001b[39;49m\u001b[43mx\u001b[49m\u001b[43m)\u001b[49m\u001b[43m[\u001b[49m\u001b[43mi\u001b[49m\u001b[43m]\u001b[49m\u001b[43m,\u001b[49m\u001b[43m \u001b[49m\u001b[43mdx\u001b[49m\u001b[43m[\u001b[49m\u001b[43mi\u001b[49m\u001b[43m]\u001b[49m\u001b[43m)\u001b[49m\n\u001b[0;32m     25\u001b[0m     \u001b[38;5;28;01mfor\u001b[39;00m i \u001b[38;5;129;01min\u001b[39;00m \u001b[38;5;28mrange\u001b[39m(n):\n\u001b[0;32m     26\u001b[0m         dy_basis[i] \u001b[38;5;241m=\u001b[39m f(dx\u001b[38;5;241m*\u001b[39mbasis[i, :]\u001b[38;5;241m+\u001b[39mx) \u001b[38;5;241m-\u001b[39m y0\n",
      "File \u001b[1;32m<__array_function__ internals>:200\u001b[0m, in \u001b[0;36mamax\u001b[1;34m(*args, **kwargs)\u001b[0m\n",
      "File \u001b[1;32mc:\\Python\\Python39\\lib\\site-packages\\numpy\\core\\fromnumeric.py:2820\u001b[0m, in \u001b[0;36mamax\u001b[1;34m(a, axis, out, keepdims, initial, where)\u001b[0m\n\u001b[0;32m   2703\u001b[0m \u001b[38;5;129m@array_function_dispatch\u001b[39m(_amax_dispatcher)\n\u001b[0;32m   2704\u001b[0m \u001b[38;5;28;01mdef\u001b[39;00m \u001b[38;5;21mamax\u001b[39m(a, axis\u001b[38;5;241m=\u001b[39m\u001b[38;5;28;01mNone\u001b[39;00m, out\u001b[38;5;241m=\u001b[39m\u001b[38;5;28;01mNone\u001b[39;00m, keepdims\u001b[38;5;241m=\u001b[39mnp\u001b[38;5;241m.\u001b[39m_NoValue, initial\u001b[38;5;241m=\u001b[39mnp\u001b[38;5;241m.\u001b[39m_NoValue,\n\u001b[0;32m   2705\u001b[0m          where\u001b[38;5;241m=\u001b[39mnp\u001b[38;5;241m.\u001b[39m_NoValue):\n\u001b[0;32m   2706\u001b[0m     \u001b[38;5;124;03m\"\"\"\u001b[39;00m\n\u001b[0;32m   2707\u001b[0m \u001b[38;5;124;03m    Return the maximum of an array or maximum along an axis.\u001b[39;00m\n\u001b[0;32m   2708\u001b[0m \n\u001b[1;32m   (...)\u001b[0m\n\u001b[0;32m   2818\u001b[0m \u001b[38;5;124;03m    5\u001b[39;00m\n\u001b[0;32m   2819\u001b[0m \u001b[38;5;124;03m    \"\"\"\u001b[39;00m\n\u001b[1;32m-> 2820\u001b[0m     \u001b[38;5;28;01mreturn\u001b[39;00m \u001b[43m_wrapreduction\u001b[49m\u001b[43m(\u001b[49m\u001b[43ma\u001b[49m\u001b[43m,\u001b[49m\u001b[43m \u001b[49m\u001b[43mnp\u001b[49m\u001b[38;5;241;43m.\u001b[39;49m\u001b[43mmaximum\u001b[49m\u001b[43m,\u001b[49m\u001b[43m \u001b[49m\u001b[38;5;124;43m'\u001b[39;49m\u001b[38;5;124;43mmax\u001b[39;49m\u001b[38;5;124;43m'\u001b[39;49m\u001b[43m,\u001b[49m\u001b[43m \u001b[49m\u001b[43maxis\u001b[49m\u001b[43m,\u001b[49m\u001b[43m \u001b[49m\u001b[38;5;28;43;01mNone\u001b[39;49;00m\u001b[43m,\u001b[49m\u001b[43m \u001b[49m\u001b[43mout\u001b[49m\u001b[43m,\u001b[49m\n\u001b[0;32m   2821\u001b[0m \u001b[43m                          \u001b[49m\u001b[43mkeepdims\u001b[49m\u001b[38;5;241;43m=\u001b[39;49m\u001b[43mkeepdims\u001b[49m\u001b[43m,\u001b[49m\u001b[43m \u001b[49m\u001b[43minitial\u001b[49m\u001b[38;5;241;43m=\u001b[39;49m\u001b[43minitial\u001b[49m\u001b[43m,\u001b[49m\u001b[43m \u001b[49m\u001b[43mwhere\u001b[49m\u001b[38;5;241;43m=\u001b[39;49m\u001b[43mwhere\u001b[49m\u001b[43m)\u001b[49m\n",
      "File \u001b[1;32mc:\\Python\\Python39\\lib\\site-packages\\numpy\\core\\fromnumeric.py:84\u001b[0m, in \u001b[0;36m_wrapreduction\u001b[1;34m(obj, ufunc, method, axis, dtype, out, **kwargs)\u001b[0m\n\u001b[0;32m     82\u001b[0m             \u001b[38;5;28;01mreturn\u001b[39;00m reduction(axis\u001b[38;5;241m=\u001b[39maxis, dtype\u001b[38;5;241m=\u001b[39mdtype, out\u001b[38;5;241m=\u001b[39mout, \u001b[38;5;241m*\u001b[39m\u001b[38;5;241m*\u001b[39mpasskwargs)\n\u001b[0;32m     83\u001b[0m         \u001b[38;5;28;01melse\u001b[39;00m:\n\u001b[1;32m---> 84\u001b[0m             \u001b[38;5;28;01mreturn\u001b[39;00m reduction(axis\u001b[38;5;241m=\u001b[39maxis, out\u001b[38;5;241m=\u001b[39mout, \u001b[38;5;241m*\u001b[39m\u001b[38;5;241m*\u001b[39mpasskwargs)\n\u001b[0;32m     86\u001b[0m \u001b[38;5;28;01mreturn\u001b[39;00m ufunc\u001b[38;5;241m.\u001b[39mreduce(obj, axis, dtype, out, \u001b[38;5;241m*\u001b[39m\u001b[38;5;241m*\u001b[39mpasskwargs)\n",
      "File \u001b[1;32mc:\\Python\\Python39\\lib\\site-packages\\numpy\\core\\_methods.py:41\u001b[0m, in \u001b[0;36m_amax\u001b[1;34m(a, axis, out, keepdims, initial, where)\u001b[0m\n\u001b[0;32m     39\u001b[0m \u001b[38;5;28;01mdef\u001b[39;00m \u001b[38;5;21m_amax\u001b[39m(a, axis\u001b[38;5;241m=\u001b[39m\u001b[38;5;28;01mNone\u001b[39;00m, out\u001b[38;5;241m=\u001b[39m\u001b[38;5;28;01mNone\u001b[39;00m, keepdims\u001b[38;5;241m=\u001b[39m\u001b[38;5;28;01mFalse\u001b[39;00m,\n\u001b[0;32m     40\u001b[0m           initial\u001b[38;5;241m=\u001b[39m_NoValue, where\u001b[38;5;241m=\u001b[39m\u001b[38;5;28;01mTrue\u001b[39;00m):\n\u001b[1;32m---> 41\u001b[0m     \u001b[38;5;28;01mreturn\u001b[39;00m \u001b[43mumr_maximum\u001b[49m\u001b[43m(\u001b[49m\u001b[43ma\u001b[49m\u001b[43m,\u001b[49m\u001b[43m \u001b[49m\u001b[43maxis\u001b[49m\u001b[43m,\u001b[49m\u001b[43m \u001b[49m\u001b[38;5;28;43;01mNone\u001b[39;49;00m\u001b[43m,\u001b[49m\u001b[43m \u001b[49m\u001b[43mout\u001b[49m\u001b[43m,\u001b[49m\u001b[43m \u001b[49m\u001b[43mkeepdims\u001b[49m\u001b[43m,\u001b[49m\u001b[43m \u001b[49m\u001b[43minitial\u001b[49m\u001b[43m,\u001b[49m\u001b[43m \u001b[49m\u001b[43mwhere\u001b[49m\u001b[43m)\u001b[49m\n",
      "\u001b[1;31mTypeError\u001b[0m: 'numpy.float64' object cannot be interpreted as an integer"
     ]
    }
   ],
   "source": [
    "y, x, N = gradient_descent_mp(cost_func_mp, 1e-5, 0.1, 1e-5, [0.009, 0.012, 0.021], [0.005, 0.005, 0.005], [0.001, 0.001, 0.001], [0.2, 0.2, 0.2])"
   ]
  },
  {
   "cell_type": "code",
   "execution_count": 61,
   "id": "eedb70c6-db23-41cf-a48d-23b2964264ab",
   "metadata": {},
   "outputs": [
    {
     "data": {
      "text/plain": [
       "3.9948007051435743"
      ]
     },
     "execution_count": 61,
     "metadata": {},
     "output_type": "execute_result"
    }
   ],
   "source": [
    "cost_func_mp([0.0093, 0.012, 0.0218])"
   ]
  },
  {
   "cell_type": "code",
   "execution_count": 196,
   "id": "fc7e7054-1cb3-494f-a9ce-e79c40f8fa9d",
   "metadata": {},
   "outputs": [
    {
     "data": {
      "text/plain": [
       "[<matplotlib.lines.Line2D at 0x1fa117938e0>]"
      ]
     },
     "execution_count": 196,
     "metadata": {},
     "output_type": "execute_result"
    },
    {
     "data": {
      "image/png": "[encoded data removed]",
      "text/plain": [
       "<Figure size 432x288 with 1 Axes>"
      ]
     },
     "metadata": {
      "needs_background": "light"
     },
     "output_type": "display_data"
    }
   ],
   "source": [
    "plt.plot(y)"
   ]
  },
  {
   "cell_type": "code",
   "execution_count": 197,
   "id": "3c9ac216-7097-4043-8e70-d981df6ba6b2",
   "metadata": {},
   "outputs": [
    {
     "data": {
      "text/plain": [
       "380"
      ]
     },
     "execution_count": 197,
     "metadata": {},
     "output_type": "execute_result"
    }
   ],
   "source": [
    "N"
   ]
  },
  {
   "cell_type": "code",
   "execution_count": 199,
   "id": "a1ec483c-60af-447c-841a-8d00cb37d537",
   "metadata": {},
   "outputs": [
    {
     "data": {
      "text/plain": [
       "0.18544459181999365"
      ]
     },
     "execution_count": 199,
     "metadata": {},
     "output_type": "execute_result"
    }
   ],
   "source": [
    "y[350]"
   ]
  },
  {
   "cell_type": "code",
   "execution_count": 200,
   "id": "9ce7a440-731f-470b-857b-35adfbd45ab3",
   "metadata": {},
   "outputs": [
    {
     "data": {
      "text/plain": [
       "array([0.03029267, 0.03717034, 0.07054009])"
      ]
     },
     "execution_count": 200,
     "metadata": {},
     "output_type": "execute_result"
    }
   ],
   "source": [
    "x"
   ]
  },
  {
   "cell_type": "code",
   "execution_count": 29,
   "id": "12bc8e9e-4852-4c48-b3fe-1a1d489a23da",
   "metadata": {
    "tags": []
   },
   "outputs": [],
   "source": [
    "y, x, N = gradient_descent(cost_func, 1e-4, 1e-6, 0.1, 0.03, 0.01)"
   ]
  },
  {
   "cell_type": "code",
   "execution_count": 30,
   "id": "50754165-70eb-4850-bb91-f93b5b80f1aa",
   "metadata": {},
   "outputs": [
    {
     "data": {
      "text/plain": [
       "0.045560756858524544"
      ]
     },
     "execution_count": 30,
     "metadata": {},
     "output_type": "execute_result"
    }
   ],
   "source": [
    "y"
   ]
  },
  {
   "cell_type": "code",
   "execution_count": 31,
   "id": "bbea3a65-7a5c-435c-9067-3d5839975be7",
   "metadata": {},
   "outputs": [
    {
     "data": {
      "text/plain": [
       "0"
      ]
     },
     "execution_count": 31,
     "metadata": {},
     "output_type": "execute_result"
    }
   ],
   "source": [
    "N"
   ]
  },
  {
   "cell_type": "code",
   "execution_count": 32,
   "id": "2788cdcc-afcd-484c-ac24-e61544f4719b",
   "metadata": {
    "tags": []
   },
   "outputs": [
    {
     "data": {
      "text/plain": [
       "0.03"
      ]
     },
     "execution_count": 32,
     "metadata": {},
     "output_type": "execute_result"
    }
   ],
   "source": [
    "x"
   ]
  },
  {
   "cell_type": "code",
   "execution_count": 41,
   "id": "c11578e2",
   "metadata": {},
   "outputs": [
    {
     "data": {
      "text/plain": [
       "0.33248025111623525"
      ]
     },
     "execution_count": 41,
     "metadata": {},
     "output_type": "execute_result"
    }
   ],
   "source": [
    "cost_func(0.027)"
   ]
  },
  {
   "cell_type": "code",
   "execution_count": 106,
   "id": "1183ce22-4122-4483-8b7e-f12e1d8001f3",
   "metadata": {
    "tags": []
   },
   "outputs": [
    {
     "data": {
      "image/png": "[encoded data removed]",
      "text/plain": [
       "<Figure size 640x480 with 1 Axes>"
      ]
     },
     "metadata": {},
     "output_type": "display_data"
    }
   ],
   "source": [
    "tlist = np.linspace(0.01, 0.05, 100)\n",
    "nlist = []\n",
    "for t in tlist:\n",
    "    nlist.append(cost_func(t))\n",
    "plt.plot(tlist, nlist)\n",
    "plt.xlabel(\"t/ms\")\n",
    "plt.ylabel(\"nbar\")\n",
    "# plt.yticks(np.linspace(0.0, 1.4, 11))\n",
    "plt.grid(True)"
   ]
  },
  {
   "cell_type": "code",
   "execution_count": 75,
   "id": "0823e367-08ea-4d4b-b4f6-29f90e24c308",
   "metadata": {},
   "outputs": [
    {
     "name": "stdout",
     "output_type": "stream",
     "text": [
      "0.1276222277866072\n"
     ]
    },
    {
     "data": {
      "text/plain": [
       "<matplotlib.colorbar.Colorbar at 0x1c660346dc0>"
      ]
     },
     "execution_count": 75,
     "metadata": {},
     "output_type": "execute_result"
    },
    {
     "data": {
      "image/png": "[encoded data removed]",
      "text/plain": [
       "<Figure size 720x720 with 2 Axes>"
      ]
     },
     "metadata": {
      "needs_background": "light"
     },
     "output_type": "display_data"
    }
   ],
   "source": [
    "nbar_final, plist, p_tot, M_tot = nbar_after_SBCheating(0.04, 12, 0.038, 71.4, 0.2, 70)\n",
    "print(nbar_final)\n",
    "plt.figure(figsize=(10, 10))\n",
    "plt.imshow(M_tot)\n",
    "plt.colorbar()"
   ]
  },
  {
   "cell_type": "code",
   "execution_count": 274,
   "id": "d17d4e50-a3c4-4b11-b75a-820e2b356dac",
   "metadata": {},
   "outputs": [
    {
     "data": {
      "text/plain": [
       "<matplotlib.colorbar.Colorbar at 0x25fe9c22e50>"
      ]
     },
     "execution_count": 274,
     "metadata": {},
     "output_type": "execute_result"
    },
    {
     "data": {
      "image/png": "[encoded data removed]",
      "text/plain": [
       "<Figure size 720x720 with 2 Axes>"
      ]
     },
     "metadata": {
      "needs_background": "light"
     },
     "output_type": "display_data"
    }
   ],
   "source": [
    "plist = pthermal_gen(12)\n",
    "M = SBC_FO_once_M(0.02, plist, 0.05, 100)\n",
    "M_tot = np.linalg.matrix_power(M, 70)\n",
    "plt.figure(figsize=(10, 10))\n",
    "plt.imshow(M_tot)\n",
    "plt.colorbar()"
   ]
  },
  {
   "cell_type": "code",
   "execution_count": 65,
   "id": "3f4ea066-5f46-4da7-b0e7-d2daec573a5d",
   "metadata": {},
   "outputs": [
    {
     "data": {
      "text/plain": [
       "0.10639655557821498"
      ]
     },
     "execution_count": 65,
     "metadata": {},
     "output_type": "execute_result"
    }
   ],
   "source": [
    "1/(0.038*71.4*np.sqrt(12))"
   ]
  },
  {
   "cell_type": "code",
   "execution_count": null,
   "id": "963893b1-fa46-4954-a655-32a3523e511f",
   "metadata": {},
   "outputs": [],
   "source": []
  }
 ],
 "metadata": {
  "kernelspec": {
   "display_name": "Python 3",
   "language": "python",
   "name": "python3"
  },
  "language_info": {
   "codemirror_mode": {
    "name": "ipython",
    "version": 3
   },
   "file_extension": ".py",
   "mimetype": "text/x-python",
   "name": "python",
   "nbconvert_exporter": "python",
   "pygments_lexer": "ipython3",
   "version": "3.9.1"
  }
 },
 "nbformat": 4,
 "nbformat_minor": 5
}
