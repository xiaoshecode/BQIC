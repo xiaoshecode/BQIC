{
 "cells": [
  {
   "cell_type": "markdown",
   "id": "28d8dbd6-39d6-4fc3-9b1d-96740d363a36",
   "metadata": {},
   "source": [
    "## import"
   ]
  },
  {
   "cell_type": "code",
   "execution_count": 1,
   "id": "4622312b-7821-431c-9658-8652798e1cd4",
   "metadata": {},
   "outputs": [],
   "source": [
    "import numpy as np\n",
    "import matplotlib.pyplot as plt\n",
    "from scipy.special import genlaguerre, factorial"
   ]
  },
  {
   "cell_type": "markdown",
   "id": "5c927439-a6e2-4659-ab46-c48f09466cfa",
   "metadata": {},
   "source": [
    "## Constant definition and calculation"
   ]
  },
  {
   "cell_type": "code",
   "execution_count": 45,
   "id": "3c36bb31-8a45-41c7-b1f3-34afc94d14d5",
   "metadata": {},
   "outputs": [],
   "source": [
    "kB = 1.38065*10**(-23)   #unit-Joule/Kelvin\n",
    "hbar = 1.05457*10**(-34)  #unit-Joule/Hz\n",
    "lamb = 411*10**(-9)   #unit-m\n",
    "amu = 1.66054*10**(-27)  #  kg\n",
    "mass = 171  #171Yb+\n",
    "frequency = 1.2504*10**6  #Hz"
   ]
  },
  {
   "cell_type": "code",
   "execution_count": 46,
   "id": "d3bd9ca7-f73d-4af1-bd90-bb847b9b90c7",
   "metadata": {},
   "outputs": [],
   "source": [
    "eta = 2*np.pi/lamb*np.sqrt(hbar/2/2/np.pi/mass/amu/frequency)*np.cos(np.pi/4)"
   ]
  },
  {
   "cell_type": "code",
   "execution_count": 47,
   "id": "c03a8fa2-04f0-4e05-88bb-27a333cd1e25",
   "metadata": {},
   "outputs": [
    {
     "data": {
      "text/plain": [
       "0.05255434338939188"
      ]
     },
     "execution_count": 47,
     "metadata": {},
     "output_type": "execute_result"
    }
   ],
   "source": [
    "eta"
   ]
  },
  {
   "cell_type": "markdown",
   "id": "bc32cdee-7f4a-4d9c-8dd2-86ecf5aedd7a",
   "metadata": {},
   "source": [
    "## function definition"
   ]
  },
  {
   "cell_type": "code",
   "execution_count": 7,
   "id": "d47ff1de-44ac-48cc-bfc6-e6dd05b28fa6",
   "metadata": {},
   "outputs": [],
   "source": [
    "def pthermal_gen(nbar):\n",
    "    plist = []\n",
    "    i = 0\n",
    "    while nbar**i/(nbar+1)**i > 0.01:\n",
    "        plist.append(nbar**i/(nbar+1)**(i+1))\n",
    "        i += 1\n",
    "    return np.array(plist)"
   ]
  },
  {
   "cell_type": "code",
   "execution_count": 8,
   "id": "ba0dfc1c-faed-4c43-b52d-0a080b79032d",
   "metadata": {},
   "outputs": [],
   "source": [
    "def Omegarsb(eta, Omega, n):\n",
    "    return 2*np.pi*Omega*np.exp(-eta**2/2)*np.sqrt(np.array(factorial(n-1, exact=True)/factorial(n, exact=True)).astype(float))*eta*genlaguerre(n-1, 1)(eta**2)"
   ]
  },
  {
   "cell_type": "code",
   "execution_count": 9,
   "id": "12f4034c-6a38-4a8c-a248-157fdfd02ece",
   "metadata": {},
   "outputs": [],
   "source": [
    "plist = pthermal_gen(10)"
   ]
  },
  {
   "cell_type": "code",
   "execution_count": 10,
   "id": "21371466-1ef7-4016-8bde-908fadbe21ab",
   "metadata": {},
   "outputs": [
    {
     "data": {
      "text/plain": [
       "0.9906295935925492"
      ]
     },
     "execution_count": 10,
     "metadata": {},
     "output_type": "execute_result"
    }
   ],
   "source": [
    "np.sum(plist)"
   ]
  },
  {
   "cell_type": "code",
   "execution_count": 11,
   "id": "f2d5e75d-e0b3-47b0-82a7-f3cbe1aef7ac",
   "metadata": {},
   "outputs": [
    {
     "data": {
      "text/plain": [
       "[<matplotlib.lines.Line2D at 0x261b2426220>]"
      ]
     },
     "execution_count": 11,
     "metadata": {},
     "output_type": "execute_result"
    },
    {
     "data": {
      "image/png": "[encoded data removed]",
      "text/plain": [
       "<Figure size 640x480 with 1 Axes>"
      ]
     },
     "metadata": {},
     "output_type": "display_data"
    }
   ],
   "source": [
    "omega = []\n",
    "N=100\n",
    "for n in range(N):\n",
    "    omega.append(Omegarsb(0.13, 200, n+1))\n",
    "plt.plot(range(N), omega)"
   ]
  },
  {
   "cell_type": "code",
   "execution_count": 12,
   "id": "179325a5-1455-4f73-8227-8fd8df4638be",
   "metadata": {},
   "outputs": [],
   "source": [
    "def SBC_FO_once_M(t, plist, eta, Omega):\n",
    "    n = len(plist)\n",
    "    W_mat = np.zeros((n,n))\n",
    "    for i in range(n):\n",
    "        if i == 0:\n",
    "            ai = 1\n",
    "            bi1 = np.sin(Omegarsb(eta, Omega, 1)*t/2)**2\n",
    "        else:\n",
    "            ai = np.cos(Omegarsb(eta, Omega, i)*t/2)**2\n",
    "            bi1  = np.sin(Omegarsb(eta, Omega, i+1)*t/2)**2\n",
    "        W_mat[i, i] = ai\n",
    "        if i < n-1:\n",
    "            W_mat[i, i+1] = bi1\n",
    "            \n",
    "    return W_mat"
   ]
  },
  {
   "cell_type": "code",
   "execution_count": 13,
   "id": "a094005c-051f-48ee-99e9-103a847609cb",
   "metadata": {},
   "outputs": [],
   "source": [
    "def heating_matrix(t, plist, gamma):\n",
    "    n = len(plist)\n",
    "    H_mat = np.zeros((n,n))\n",
    "    \n",
    "    transition_rate_thr = 0.2\n",
    "    dt = transition_rate_thr/gamma/(2*n + 1)\n",
    "    m = int(t/dt) + 1\n",
    "    dt = np.min([t, dt])\n",
    "    for i in range(n):\n",
    "        if i == n-1:\n",
    "            H_mat[i, i-1] = gamma*i*dt\n",
    "            H_mat[i, i] = -gamma * (2*i+1) *dt\n",
    "        elif i == 0:\n",
    "            H_mat[i, i] = -gamma * (2*i+1) *dt\n",
    "            H_mat[i, i+1] = gamma * (i+1) *dt\n",
    "        else:\n",
    "            H_mat[i, i-1] = gamma*i *dt\n",
    "            H_mat[i, i] = -gamma * (2*i+1) *dt\n",
    "            H_mat[i, i+1] = gamma * (i+1) *dt\n",
    "\n",
    "    return np.linalg.matrix_power(np.eye(n)+H_mat, m)"
   ]
  },
  {
   "cell_type": "code",
   "execution_count": 14,
   "id": "1661964a-3bee-4412-9e17-760c482d5d11",
   "metadata": {},
   "outputs": [],
   "source": [
    "M = SBC_FO_once_M(0.01, plist, 0.05, 200)"
   ]
  },
  {
   "cell_type": "code",
   "execution_count": 15,
   "id": "bdc36851-6b11-43d0-a2d9-4fff8b2c8537",
   "metadata": {},
   "outputs": [],
   "source": [
    "M20 = M**25"
   ]
  },
  {
   "cell_type": "code",
   "execution_count": 16,
   "id": "e507a286-4877-47f9-83fb-169591cef5c6",
   "metadata": {},
   "outputs": [
    {
     "data": {
      "text/plain": [
       "<matplotlib.colorbar.Colorbar at 0x261b2472f70>"
      ]
     },
     "execution_count": 16,
     "metadata": {},
     "output_type": "execute_result"
    },
    {
     "data": {
      "image/png": "[encoded data removed]",
      "text/plain": [
       "<Figure size 640x480 with 2 Axes>"
      ]
     },
     "metadata": {},
     "output_type": "display_data"
    }
   ],
   "source": [
    "# plt.figure(figsize=(10,10))\n",
    "plt.imshow(np.linalg.matrix_power(M, 40))\n",
    "plt.colorbar()"
   ]
  },
  {
   "cell_type": "code",
   "execution_count": 17,
   "id": "88488f89-7bcb-467b-ad0b-b5b74eca8efc",
   "metadata": {},
   "outputs": [
    {
     "data": {
      "text/plain": [
       "<matplotlib.colorbar.Colorbar at 0x261b2537fa0>"
      ]
     },
     "execution_count": 17,
     "metadata": {},
     "output_type": "execute_result"
    },
    {
     "data": {
      "image/png": "[encoded data removed]",
      "text/plain": [
       "<Figure size 640x480 with 2 Axes>"
      ]
     },
     "metadata": {},
     "output_type": "display_data"
    }
   ],
   "source": [
    "# plt.figure(figsize=(10,10))\n",
    "plt.imshow(np.linalg.matrix_power(heating_matrix(0.05, plist, 0.2), 30))\n",
    "plt.colorbar()"
   ]
  },
  {
   "cell_type": "code",
   "execution_count": 18,
   "id": "83d45c0c-7abc-4169-8d18-06a31f8436ab",
   "metadata": {},
   "outputs": [
    {
     "data": {
      "text/plain": [
       "array([0.   , 0.   , 0.   , 0.   , 0.01 , 0.978, 0.012, 0.   , 0.   ,\n",
       "       0.   , 0.   , 0.   , 0.   , 0.   , 0.   , 0.   , 0.   , 0.   ,\n",
       "       0.   , 0.   , 0.   , 0.   , 0.   , 0.   , 0.   , 0.   , 0.   ,\n",
       "       0.   , 0.   , 0.   , 0.   , 0.   , 0.   , 0.   , 0.   , 0.   ,\n",
       "       0.   , 0.   , 0.   , 0.   , 0.   , 0.   , 0.   , 0.   , 0.   ,\n",
       "       0.   , 0.   , 0.   , 0.   ])"
      ]
     },
     "execution_count": 18,
     "metadata": {},
     "output_type": "execute_result"
    }
   ],
   "source": [
    "heating_matrix(0.01, plist, 0.2)[:, 5]"
   ]
  },
  {
   "cell_type": "code",
   "execution_count": 19,
   "id": "cbf77434-86e1-4f7b-a27a-d8adee416cb5",
   "metadata": {},
   "outputs": [],
   "source": [
    "def nbar_after_SBC(t, plist_init, eta, Omega, Ncycle):\n",
    "    W_mat = SBC_FO_once_M(t, plist_init, eta, Omega)\n",
    "    W_tot = np.linalg.matrix_power(W_mat, Ncycle)\n",
    "    \n",
    "    plist_final = W_tot @ plist_init\n",
    "    nlist = np.array(range(len(plist_final)))\n",
    "    \n",
    "    nbar_final = np.sum(nlist*plist_final)\n",
    "    p_tot = np.sum(plist_final)\n",
    "    return nbar_final, plist_final, p_tot"
   ]
  },
  {
   "cell_type": "code",
   "execution_count": 20,
   "id": "b4a68a8e-44ba-47dd-964a-049e993e1ba4",
   "metadata": {},
   "outputs": [],
   "source": [
    "def nbar_after_SBCheating(t, plist_init, t_wait, eta, Omega, gamma, Ncycle):\n",
    "    W_mat = SBC_FO_once_M(t, plist_init, eta, Omega)\n",
    "    H_mat = heating_matrix(t, plist_init, gamma)\n",
    "    H_mat_wait = heating_matrix(t_wait, plist_init, gamma)\n",
    "    M_tot_m = H_mat_wait @ (W_mat @ H_mat+H_mat @ W_mat)/2\n",
    "    # print(np.sum((W_mat @ H_mat)[:, 5]))\n",
    "    \n",
    "    M_tot = np.linalg.matrix_power(M_tot_m, Ncycle)\n",
    "    \n",
    "    plist_final = M_tot @ plist_init\n",
    "    nlist = np.array(range(len(plist_final)))\n",
    "    \n",
    "    nbar_final = np.sum(nlist*plist_final)\n",
    "    p_tot = np.sum(plist_final)\n",
    "    return nbar_final, plist_final, p_tot, M_tot"
   ]
  },
  {
   "cell_type": "code",
   "execution_count": 21,
   "id": "dc775633-5cf6-4a08-a6f7-5bfed2c3608d",
   "metadata": {},
   "outputs": [],
   "source": [
    "plist_init = pthermal_gen(15)\n",
    "nbar, plist, p_tot = nbar_after_SBC(0.05, plist_init, 0.05, 100, 40)"
   ]
  },
  {
   "cell_type": "code",
   "execution_count": 22,
   "id": "e9466cfc-ba03-4057-8c6f-df29faafa532",
   "metadata": {},
   "outputs": [
    {
     "data": {
      "text/plain": [
       "7.415578588299305"
      ]
     },
     "execution_count": 22,
     "metadata": {},
     "output_type": "execute_result"
    }
   ],
   "source": [
    "nbar"
   ]
  },
  {
   "cell_type": "code",
   "execution_count": 23,
   "id": "db843716-42f5-48dd-8048-42b87ed6664b",
   "metadata": {},
   "outputs": [],
   "source": [
    "plist_init = pthermal_gen(12)\n",
    "nbar, plist, p_tot, M_tot = nbar_after_SBCheating(0.04, plist_init, 0.07, 0.038, 71.4, 0.2, 70)"
   ]
  },
  {
   "cell_type": "code",
   "execution_count": 22,
   "id": "e754ac04-907c-4fe5-a909-c6b8038938fe",
   "metadata": {},
   "outputs": [
    {
     "data": {
      "text/plain": [
       "0.2776156099334468"
      ]
     },
     "execution_count": 22,
     "metadata": {},
     "output_type": "execute_result"
    }
   ],
   "source": [
    "nbar"
   ]
  },
  {
   "cell_type": "markdown",
   "id": "5bf11cbc-6a62-433b-a2a2-04556fa52c82",
   "metadata": {},
   "source": [
    "## Gradient descent"
   ]
  },
  {
   "cell_type": "code",
   "execution_count": 24,
   "id": "d6109e27-6b8e-426b-9226-3f87a1f85dfe",
   "metadata": {},
   "outputs": [],
   "source": [
    "def gradient_descent(f, k, dx_eps, y_eps, x, dx):\n",
    "    y0 = f(x)\n",
    "    N = 0\n",
    "    while (np.abs(dx) > dx_eps) and (y0 > y_eps):\n",
    "        y1 = f(dx+x)\n",
    "        df = y1 - y0\n",
    "        x = x + dx\n",
    "        dx = -k*df/dx\n",
    "        y0 = y1\n",
    "        N += 1\n",
    "        # print(dx)\n",
    "        \n",
    "        if N > 1000:\n",
    "            print(\"not found the optimal value in 1000 trial\")\n",
    "            break\n",
    "        \n",
    "    return y0, x, N"
   ]
  },
  {
   "cell_type": "code",
   "execution_count": 25,
   "id": "de24b827-3041-49db-8423-d5bddf470d97",
   "metadata": {},
   "outputs": [],
   "source": [
    "def gradient_descent_mp(f, dx_eps, y_eps, k, x, dx, lower_bound, upper_bound):\n",
    "    assert len(x)==len(dx)\n",
    "    \n",
    "    x = np.array(x)\n",
    "    dx = np.array(dx)\n",
    "    lower_bound = np.array(lower_bound)\n",
    "    upper_bound = np.array(upper_bound)\n",
    "    n = len(x)\n",
    "    basis = np.eye(n)\n",
    "    dy_basis = np.zeros(n)\n",
    "    y0 = f(x)\n",
    "    N = 0\n",
    "    y = [y0]\n",
    "    while (np.sqrt(np.sum(dx**2)) > dx_eps) and (y0 > y_eps):\n",
    "\n",
    "        if np.sum(((x+dx)>lower_bound) & ((x+dx)<upper_bound)) == n:\n",
    "            for i in range(n):\n",
    "                dy_basis[i] = f(dx*basis[i, :]+x) - y0\n",
    "            x = x + dx\n",
    "            y0 = f(x)\n",
    "            dx = -k*dy_basis/dx\n",
    "        elif np.sum((x+dx)>lower_bound) < n:\n",
    "            for i in range(n):\n",
    "                dx[i] = np.max((lower_bound-x)[i], dx[i])\n",
    "            for i in range(n):\n",
    "                dy_basis[i] = f(dx*basis[i, :]+x) - y0\n",
    "            x = x + dx\n",
    "            y0 = f(x)\n",
    "            dx = -k*dy_basis/dx\n",
    "        \n",
    "        else:\n",
    "            for i in range(n):\n",
    "                dx[i] = np.min((upper_bound-x)[i], dx[i])\n",
    "            for i in range(n):\n",
    "                dy_basis[i] = f(dx*basis[i, :]+x) - y0\n",
    "            x = x + dx\n",
    "            y0 = f(x)\n",
    "            dx = -k*dy_basis/dx \n",
    "            \n",
    "        y.append(y0)\n",
    "        N += 1\n",
    "        \n",
    "        \n",
    "        if N > 1000:\n",
    "            print(\"not found the optimal value in 1000 trial\")\n",
    "            break\n",
    "        \n",
    "    return y, x, N"
   ]
  },
  {
   "cell_type": "code",
   "execution_count": 50,
   "id": "dc43f26d-64a7-462d-b8c7-caa0a0d403e6",
   "metadata": {},
   "outputs": [],
   "source": [
    "def cost_func(t):\n",
    "    Ncycle = 10  # number of pulsed SBC cycle\n",
    "    Omega = 126 #78.4  #kHz\n",
    "    nbar_init = 0.5  #average phonon num after Doppler cooling\n",
    "    t_wait = 0.040\n",
    "    eta = 0.0525543433893918  \n",
    "    gamma = 0.002\n",
    "    plist_init = pthermal_gen(nbar_init)\n",
    "    # nbar_final, plist, p_tot = nbar_after_SBC(t, nbar_init, eta, Omega, Ncycle)  #t unit-ms\n",
    "    \n",
    "    nbar_final, plist, p_tot, M_tot = nbar_after_SBCheating(t, plist_init, t_wait, eta, Omega, gamma, Ncycle)  #t unit-ms\n",
    "    \n",
    "    return nbar_final"
   ]
  },
  {
   "cell_type": "code",
   "execution_count": 26,
   "id": "13dee5a7-9b6b-493b-bd8f-fb1f0363a702",
   "metadata": {},
   "outputs": [],
   "source": [
    "def cost_func_mp(t):\n",
    "    Ncycle = 60  # number of pulsed SBC cycle\n",
    "    Omega = 172#71.4  #kHz\n",
    "    nbar_init = 12  #average phonon num after Doppler cooling\n",
    "    t_wait = 0.040\n",
    "    eta = 0.049  \n",
    "    gamma = 0.002\n",
    "    m = Ncycle//len(t)\n",
    "    Nres = Ncycle%len(t)\n",
    "    plist_init = pthermal_gen(nbar_init)\n",
    "    # nbar_final, plist, p_tot = nbar_after_SBC(t, nbar_init, eta, Omega, Ncycle)  #t unit-ms\n",
    "    for i in range(len(t)):\n",
    "        if i == 0:\n",
    "            n_seg = m + Nres\n",
    "        else:\n",
    "            n_seg = m\n",
    "        \n",
    "        nbar_final, plist, p_tot, M_tot = nbar_after_SBCheating(t[i], plist_init, t_wait, eta, Omega, gamma, n_seg)  #t unit-ms\n",
    "        plist_init = plist\n",
    "    \n",
    "    return nbar_final"
   ]
  },
  {
   "cell_type": "code",
   "execution_count": 27,
   "id": "f1ad3ba2-acd2-4c65-a70f-c80e574f6d69",
   "metadata": {
    "tags": []
   },
   "outputs": [],
   "source": [
    "y, x, N = gradient_descent_mp(cost_func_mp, 1e-5, 0.007, 1e-5, [0.009, 0.012, 0.022], [0.004, 0.004, 0.004], [0.0, 0.0, 0.0], [0.02, 0.04, 0.06])"
   ]
  },
  {
   "cell_type": "code",
   "execution_count": 97,
   "id": "451397f7-6d27-412a-879f-0294379cb5d0",
   "metadata": {},
   "outputs": [
    {
     "data": {
      "text/plain": [
       "array([0.0096269 , 0.01215545, 0.01960246])"
      ]
     },
     "execution_count": 97,
     "metadata": {},
     "output_type": "execute_result"
    }
   ],
   "source": [
    "x  #70 cycle"
   ]
  },
  {
   "cell_type": "code",
   "execution_count": 28,
   "id": "bc4621ff-3009-4471-be42-558968118022",
   "metadata": {},
   "outputs": [
    {
     "data": {
      "text/plain": [
       "array([0.0092852 , 0.01196123, 0.02180884])"
      ]
     },
     "execution_count": 28,
     "metadata": {},
     "output_type": "execute_result"
    }
   ],
   "source": [
    "x"
   ]
  },
  {
   "cell_type": "code",
   "execution_count": 29,
   "id": "ca9a3195-9b3b-4525-84c9-60247e3f5f55",
   "metadata": {
    "tags": []
   },
   "outputs": [
    {
     "data": {
      "text/plain": [
       "0.007989914958915809"
      ]
     },
     "execution_count": 29,
     "metadata": {},
     "output_type": "execute_result"
    }
   ],
   "source": [
    "y[-1]"
   ]
  },
  {
   "cell_type": "code",
   "execution_count": 30,
   "id": "eedb70c6-db23-41cf-a48d-23b2964264ab",
   "metadata": {},
   "outputs": [
    {
     "data": {
      "text/plain": [
       "0.007993077591723265"
      ]
     },
     "execution_count": 30,
     "metadata": {},
     "output_type": "execute_result"
    }
   ],
   "source": [
    "cost_func_mp([0.0093, 0.0119, 0.0218])"
   ]
  },
  {
   "cell_type": "code",
   "execution_count": 31,
   "id": "fc7e7054-1cb3-494f-a9ce-e79c40f8fa9d",
   "metadata": {},
   "outputs": [
    {
     "data": {
      "text/plain": [
       "[<matplotlib.lines.Line2D at 0x24dc8c45d90>]"
      ]
     },
     "execution_count": 31,
     "metadata": {},
     "output_type": "execute_result"
    },
    {
     "data": {
      "image/png": "[encoded data removed]",
      "text/plain": [
       "<Figure size 640x480 with 1 Axes>"
      ]
     },
     "metadata": {},
     "output_type": "display_data"
    }
   ],
   "source": [
    "plt.plot(y)"
   ]
  },
  {
   "cell_type": "code",
   "execution_count": 44,
   "id": "3c9ac216-7097-4043-8e70-d981df6ba6b2",
   "metadata": {},
   "outputs": [
    {
     "data": {
      "text/plain": [
       "39"
      ]
     },
     "execution_count": 44,
     "metadata": {},
     "output_type": "execute_result"
    }
   ],
   "source": [
    "N"
   ]
  },
  {
   "cell_type": "code",
   "execution_count": 46,
   "id": "a1ec483c-60af-447c-841a-8d00cb37d537",
   "metadata": {},
   "outputs": [
    {
     "data": {
      "text/plain": [
       "0.6854960799886084"
      ]
     },
     "execution_count": 46,
     "metadata": {},
     "output_type": "execute_result"
    }
   ],
   "source": [
    "y[38]"
   ]
  },
  {
   "cell_type": "code",
   "execution_count": 45,
   "id": "9ce7a440-731f-470b-857b-35adfbd45ab3",
   "metadata": {},
   "outputs": [
    {
     "data": {
      "text/plain": [
       "array([0.01168712, 0.03056206, 0.04278462])"
      ]
     },
     "execution_count": 45,
     "metadata": {},
     "output_type": "execute_result"
    }
   ],
   "source": [
    "x"
   ]
  },
  {
   "cell_type": "code",
   "execution_count": 84,
   "id": "12bc8e9e-4852-4c48-b3fe-1a1d489a23da",
   "metadata": {
    "tags": []
   },
   "outputs": [],
   "source": [
    "y, x, N = gradient_descent(cost_func, 1e-6, 1e-7, 0.1, 0.02, 0.002)"
   ]
  },
  {
   "cell_type": "code",
   "execution_count": 85,
   "id": "50754165-70eb-4850-bb91-f93b5b80f1aa",
   "metadata": {},
   "outputs": [
    {
     "data": {
      "text/plain": [
       "0.11339761519667392"
      ]
     },
     "execution_count": 85,
     "metadata": {},
     "output_type": "execute_result"
    }
   ],
   "source": [
    "y"
   ]
  },
  {
   "cell_type": "code",
   "execution_count": 86,
   "id": "bbea3a65-7a5c-435c-9067-3d5839975be7",
   "metadata": {},
   "outputs": [
    {
     "data": {
      "text/plain": [
       "108"
      ]
     },
     "execution_count": 86,
     "metadata": {},
     "output_type": "execute_result"
    }
   ],
   "source": [
    "N"
   ]
  },
  {
   "cell_type": "code",
   "execution_count": 87,
   "id": "2788cdcc-afcd-484c-ac24-e61544f4719b",
   "metadata": {
    "tags": []
   },
   "outputs": [
    {
     "data": {
      "text/plain": [
       "0.012716705639289243"
      ]
     },
     "execution_count": 87,
     "metadata": {},
     "output_type": "execute_result"
    }
   ],
   "source": [
    "x"
   ]
  },
  {
   "cell_type": "code",
   "execution_count": 88,
   "id": "b1442f92-1c25-41a7-9a04-7027aa388bf6",
   "metadata": {},
   "outputs": [],
   "source": [
    "nbar_final, plist, p_tot, M_tot = nbar_after_SBCheating(0.0115, pthermal_gen(12), 0.04, 0.0405, 227, 0.002, 60)"
   ]
  },
  {
   "cell_type": "code",
   "execution_count": 89,
   "id": "5ca7d899-8112-448b-82d2-8e50f940f977",
   "metadata": {},
   "outputs": [
    {
     "data": {
      "text/plain": [
       "[<matplotlib.lines.Line2D at 0x1c13a200880>]"
      ]
     },
     "execution_count": 89,
     "metadata": {},
     "output_type": "execute_result"
    },
    {
     "data": {
      "image/png": "[encoded data removed]",
      "text/plain": [
       "<Figure size 640x480 with 1 Axes>"
      ]
     },
     "metadata": {},
     "output_type": "display_data"
    }
   ],
   "source": [
    "plt.plot(plist, 'o')"
   ]
  },
  {
   "cell_type": "code",
   "execution_count": 51,
   "id": "1183ce22-4122-4483-8b7e-f12e1d8001f3",
   "metadata": {
    "tags": []
   },
   "outputs": [
    {
     "data": {
      "image/png": "[encoded data removed]",
      "text/plain": [
       "<Figure size 640x480 with 1 Axes>"
      ]
     },
     "metadata": {},
     "output_type": "display_data"
    }
   ],
   "source": [
    "tlist = np.linspace(0.02, 0.07, 50)\n",
    "nlist = []\n",
    "for t in tlist:\n",
    "    nlist.append(cost_func(t))\n",
    "plt.plot(tlist, nlist)\n",
    "plt.xlabel(\"t/ms\")\n",
    "plt.ylabel(\"nbar\")\n",
    "plt.yticks(np.linspace(0, 0.1, 11))\n",
    "plt.grid(True)"
   ]
  },
  {
   "cell_type": "code",
   "execution_count": 75,
   "id": "0823e367-08ea-4d4b-b4f6-29f90e24c308",
   "metadata": {},
   "outputs": [
    {
     "name": "stdout",
     "output_type": "stream",
     "text": [
      "0.1276222277866072\n"
     ]
    },
    {
     "data": {
      "text/plain": [
       "<matplotlib.colorbar.Colorbar at 0x1c660346dc0>"
      ]
     },
     "execution_count": 75,
     "metadata": {},
     "output_type": "execute_result"
    },
    {
     "data": {
      "image/png": "[encoded data removed]",
      "text/plain": [
       "<Figure size 720x720 with 2 Axes>"
      ]
     },
     "metadata": {
      "needs_background": "light"
     },
     "output_type": "display_data"
    }
   ],
   "source": [
    "nbar_final, plist, p_tot, M_tot = nbar_after_SBCheating(0.04, 12, 0.038, 71.4, 0.2, 70)\n",
    "print(nbar_final)\n",
    "plt.figure(figsize=(10, 10))\n",
    "plt.imshow(M_tot)\n",
    "plt.colorbar()"
   ]
  },
  {
   "cell_type": "code",
   "execution_count": 274,
   "id": "d17d4e50-a3c4-4b11-b75a-820e2b356dac",
   "metadata": {},
   "outputs": [
    {
     "data": {
      "text/plain": [
       "<matplotlib.colorbar.Colorbar at 0x25fe9c22e50>"
      ]
     },
     "execution_count": 274,
     "metadata": {},
     "output_type": "execute_result"
    },
    {
     "data": {
      "image/png": "[encoded data removed]",
      "text/plain": [
       "<Figure size 720x720 with 2 Axes>"
      ]
     },
     "metadata": {
      "needs_background": "light"
     },
     "output_type": "display_data"
    }
   ],
   "source": [
    "plist = pthermal_gen(12)\n",
    "M = SBC_FO_once_M(0.02, plist, 0.05, 100)\n",
    "M_tot = np.linalg.matrix_power(M, 70)\n",
    "plt.figure(figsize=(10, 10))\n",
    "plt.imshow(M_tot)\n",
    "plt.colorbar()"
   ]
  },
  {
   "cell_type": "code",
   "execution_count": 65,
   "id": "3f4ea066-5f46-4da7-b0e7-d2daec573a5d",
   "metadata": {},
   "outputs": [
    {
     "data": {
      "text/plain": [
       "0.10639655557821498"
      ]
     },
     "execution_count": 65,
     "metadata": {},
     "output_type": "execute_result"
    }
   ],
   "source": [
    "1/(0.038*71.4*np.sqrt(12))"
   ]
  },
  {
   "cell_type": "code",
   "execution_count": null,
   "id": "963893b1-fa46-4954-a655-32a3523e511f",
   "metadata": {},
   "outputs": [],
   "source": []
  }
 ],
 "metadata": {
  "kernelspec": {
   "display_name": "Python 3",
   "language": "python",
   "name": "python3"
  },
  "language_info": {
   "codemirror_mode": {
    "name": "ipython",
    "version": 3
   },
   "file_extension": ".py",
   "mimetype": "text/x-python",
   "name": "python",
   "nbconvert_exporter": "python",
   "pygments_lexer": "ipython3",
   "version": "3.9.1"
  }
 },
 "nbformat": 4,
 "nbformat_minor": 5
}
