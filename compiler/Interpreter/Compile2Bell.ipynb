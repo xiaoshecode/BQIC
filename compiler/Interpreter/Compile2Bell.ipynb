{
 "cells": [
  {
   "cell_type": "code",
   "execution_count": 2,
   "metadata": {},
   "outputs": [
    {
     "name": "stdout",
     "output_type": "stream",
     "text": [
      "[[dds0.s0 = [100, 0.5, 0], dds1.s0 = [100, 0.5, 0], dds2.s0 = [100, 0.5, 0], dds3.s0 = [100, 0.5, 0], 2, 4], [dds12.s0 = [100, 0.2, 0], dds13.s0 = [100, 0.2, 0], dds14.s0 = [100, 0.2, 0], dds15.s0 = [100, 0.2, 0], 3, 5]]\n",
      "序列准备好了\n",
      "dds0.s0 = [100, 0.5, 0]\n",
      "dds0\n",
      "100\n",
      "0.5\n",
      "0\n",
      "21\n"
     ]
    },
    {
     "data": {
      "text/plain": [
       "True"
      ]
     },
     "execution_count": 2,
     "metadata": {},
     "output_type": "execute_result"
    }
   ],
   "source": [
    "from DDS_Seq import DDS, Seq\n",
    "from DDS_config import *\n",
    "\n",
    "import sys\n",
    "sys.path.append(\"/home/xiaoshe/code/Bell/compiler/Opfunc\")\n",
    "\n",
    "from OpfuncAWG import OpfuncAWG\n",
    "from OpfuncPulse import OpfuncPulse\n",
    "from OpfuncRF_DDS import OpfuncRF_DDS\n",
    "\n",
    "import re\n",
    "\n",
    "def extract_number(string):\n",
    "    # 使用正则表达式匹配所有数字\n",
    "    numbers = re.findall(r'\\d+', string)\n",
    "    # 如果找到数字，返回第一个数字\n",
    "    if numbers:\n",
    "        return int(numbers[0])\n",
    "    # 如果没有找到数字，返回None\n",
    "    return None\n",
    "# first, initialize the sequence\n",
    "DDS.VERBOSE = True\n",
    "# print(DDS.All)\n",
    "# print(len(DDS.List))\n",
    "# detection\n",
    "# seq = Seq().S0(4)\n",
    "seq = Seq().S0(4).S1(5)  # 序列\n",
    "print(seq)\n",
    "# rd_seq = seq.compile()\n",
    "# print(seq.compile())\n",
    "# print(seq.compile(4))\n",
    "print(\"序列准备好了\")\n",
    "seqs = seq.seq\n",
    "print(seqs[0][0])\n",
    "print(seqs[0][0].name[0])\n",
    "print(seqs[0][0][0])\n",
    "print(seqs[0][0][1])\n",
    "print(seqs[0][0][2])\n",
    "print(extract_number(\"dds21\"))\n",
    "type(seqs[0][0])==type(DDS(\"dds\"))"
   ]
  },
  {
   "cell_type": "code",
   "execution_count": 3,
   "metadata": {},
   "outputs": [],
   "source": [
    "dds = [OpfuncRF_DDS(DeviceID=i) for i in range(16)]\n",
    "ttl = [OpfuncPulse(DeviceID=i) for i in range(16)]"
   ]
  },
  {
   "cell_type": "code",
   "execution_count": 5,
   "metadata": {},
   "outputs": [
    {
     "name": "stdout",
     "output_type": "stream",
     "text": [
      "Bell序列: [[['dds', 0, 100, 0.5, 0, 4], ['dds', 1, 100, 0.5, 0, 4], ['dds', 2, 100, 0.5, 0, 4], ['dds', 3, 100, 0.5, 0, 4], ['TTL', 2, 1, 4]], [['dds', 12, 100, 0.2, 0, 5], ['dds', 13, 100, 0.2, 0, 5], ['dds', 14, 100, 0.2, 0, 5], ['dds', 15, 100, 0.2, 0, 5], ['TTL', 3, 1, 5]]]\n"
     ]
    }
   ],
   "source": [
    "def compile2Bell(seqs): # RTMQv1.0 transfer to Bell\n",
    "    \"\"\"\n",
    "    将序列转换为Bell硬件执行的IR   \n",
    "    每个dds通道有4个参数[f,a,p,t]\n",
    "    每个ttl通道有3个参数[mode,address]，暂时用来计数input , [mode, delay]\n",
    "    \"\"\"\n",
    "    seq_len = len(seqs)\n",
    "    seq4Bell = []\n",
    "    for seq in seqs:\n",
    "        # 逆序遍历\n",
    "        Flag_TTL = False\n",
    "        Flag_Delay = False\n",
    "        delay = 0\n",
    "        DDSList = []\n",
    "        for item in seq[::-1]:\n",
    "            if type(item)==type(DDS(\"dds\")):\n",
    "                # print(\"dds\")\n",
    "                DeviceID = extract_number(item.name[0])\n",
    "                Freq = item[0]\n",
    "                Amp = item[1]\n",
    "                Phase = item[2]\n",
    "                DDSList.append([\"dds\",DeviceID, Freq, Amp, Phase,delay])\n",
    "            elif Flag_Delay == False:\n",
    "                delay = item # 读取延时\n",
    "                Flag_Delay = True\n",
    "                # print(\"delay:\", delay)\n",
    "            elif Flag_TTL==False: # 读取TTL\n",
    "                TTL = item\n",
    "                mode = 1\n",
    "                # if mode == #TTL mode 在硬件中不能导入\n",
    "                Flag_TTL = True\n",
    "\n",
    "                # print(\"TTL channel:\", TTL)\n",
    "        DDSList.reverse() # 反转顺序\n",
    "        DDSList.append([\"TTL\",TTL, mode, delay])\n",
    "        # print(\"DDSList:\", DDSList)\n",
    "        seq4Bell.append(DDSList)\n",
    "    # print(\"Bell序列:\", seq4Bell)\n",
    "    return seq4Bell\n",
    "seqsIR = compile2Bell(seqs)\n",
    "print(\"Bell序列:\", seqsIR)"
   ]
  },
  {
   "cell_type": "code",
   "execution_count": 9,
   "metadata": {},
   "outputs": [
    {
     "name": "stdout",
     "output_type": "stream",
     "text": [
      "[[['dds', 0, 100, 0.5, 0, 4], ['dds', 1, 100, 0.5, 0, 4], ['dds', 2, 100, 0.5, 0, 4], ['dds', 3, 100, 0.5, 0, 4], ['TTL', 2, 4]], [['dds', 12, 100, 0.2, 0, 5], ['dds', 13, 100, 0.2, 0, 5], ['dds', 14, 100, 0.2, 0, 5], ['dds', 15, 100, 0.2, 0, 5], ['TTL', 3, 5]]]\n"
     ]
    }
   ],
   "source": [
    "# IR to Bell hardware \n",
    "\"\"\"\n",
    "这个函数用来将IR数据结构转换成Bell机器码，暂不考虑跳转格式\n",
    "\"\"\"\n",
    "print(seqsIR)\n",
    "dds = [OpfuncRF_DDS(DeviceID=i) for i in range(16)]\n",
    "ttl = [OpfuncPulse(DeviceID=i) for i in range(16)]"
   ]
  },
  {
   "cell_type": "code",
   "execution_count": null,
   "metadata": {},
   "outputs": [],
   "source": [
    "for seq in range(seqsIR):\n",
    "    for item in seq:\n",
    "        if item[0] == \"dds\":\n",
    "            dds[item[1]].setwaveform(item[2], item[3], item[4], item[5])\n",
    "        elif item[0] == \"TTL\":"
   ]
  }
 ],
 "metadata": {
  "kernelspec": {
   "display_name": "llvmlite",
   "language": "python",
   "name": "python3"
  },
  "language_info": {
   "codemirror_mode": {
    "name": "ipython",
    "version": 3
   },
   "file_extension": ".py",
   "mimetype": "text/x-python",
   "name": "python",
   "nbconvert_exporter": "python",
   "pygments_lexer": "ipython3",
   "version": "3.10.16"
  }
 },
 "nbformat": 4,
 "nbformat_minor": 2
}
