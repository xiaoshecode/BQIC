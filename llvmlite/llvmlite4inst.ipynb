{
 "cells": [
  {
   "cell_type": "code",
   "execution_count": null,
   "id": "121acad6",
   "metadata": {},
   "outputs": [],
   "source": [
    "import llvmlite.binding as binding\n",
    "import llvmlite.ir as ir"
   ]
  },
  {
   "cell_type": "code",
   "execution_count": 1,
   "id": "879e317f",
   "metadata": {},
   "outputs": [
    {
     "ename": "NameError",
     "evalue": "name 'binding' is not defined",
     "output_type": "error",
     "traceback": [
      "\u001b[1;31m---------------------------------------------------------------------------\u001b[0m",
      "\u001b[1;31mNameError\u001b[0m                                 Traceback (most recent call last)",
      "Cell \u001b[1;32mIn[1], line 1\u001b[0m\n\u001b[1;32m----> 1\u001b[0m \u001b[43mbinding\u001b[49m\u001b[38;5;241m.\u001b[39minitialize()\n\u001b[0;32m      2\u001b[0m binding\u001b[38;5;241m.\u001b[39minitialize_all_targets()\n\u001b[0;32m      3\u001b[0m binding\u001b[38;5;241m.\u001b[39minitialize_all_asmprinters()\n",
      "\u001b[1;31mNameError\u001b[0m: name 'binding' is not defined"
     ]
    }
   ],
   "source": [
    "binding.initialize()\n",
    "binding.initialize_all_targets()\n",
    "binding.initialize_all_asmprinters()\n",
    "binding.initialize_native_target()\n",
    "binding.initialize_native_asmprinter()"
   ]
  },
  {
   "cell_type": "code",
   "execution_count": null,
   "id": "cfefd27b",
   "metadata": {},
   "outputs": [],
   "source": [
    "module = ir.Module(name=\"loadmemory\")\n",
    "func_type = ir.FunctionType(ir.VoidType(),[])\n",
    "func = ir.Function(module, func_type, name=\"main\")\n",
    "block = func.append_basic_block(name=\"entry\")\n",
    "builder = ir.IRBuilder(block)"
   ]
  },
  {
   "cell_type": "code",
   "execution_count": null,
   "id": "dacf1af2",
   "metadata": {},
   "outputs": [],
   "source": [
    "# 创建没有参数的内联汇编函数类型\n",
    "asm_func_type = ir.FunctionType(ir.VoidType(), [])\n",
    "# RISC-V自定义指令示例 - 这里使用一个NOP指令作为示例\n",
    "asm_code = \"nop\"  # 可以替换为您的自定义指令\n",
    "asm_constraints = \"\"  # 没有输入/输出约束\n",
    "side_effect = True  # 假设指令有副作用\n",
    "\n",
    "# 创建内联汇编对象\n",
    "inline_asm = ir.InlineAsm(asm_func_type, asm_code, asm_constraints, side_effect)\n",
    "\n",
    "# 调用内联汇编\n",
    "builder.call(inline_asm, [])\n",
    "\n",
    "# 添加返回语句以完成函数\n",
    "builder.ret_void()"
   ]
  },
  {
   "cell_type": "code",
   "execution_count": null,
   "id": "a0ef5629",
   "metadata": {},
   "outputs": [],
   "source": [
    "# 输出生成的 LLVM IR\n",
    "print(\"Generated LLVM IR:\")\n",
    "print(module)\n",
    "\n",
    "# 解析并验证 IR\n",
    "llvm_ir = str(module)\n",
    "binding_module = binding.parse_assembly(llvm_ir)\n",
    "binding_module.verify()"
   ]
  },
  {
   "cell_type": "code",
   "execution_count": null,
   "id": "90495235",
   "metadata": {},
   "outputs": [],
   "source": [
    "# 创建目标机\n",
    "def create_target_machine():\n",
    "    riscv_target = binding.Target.from_triple(\"riscv32-unknown-linux\")\n",
    "    riscv_machine = riscv_target.create_target_machine(\n",
    "        cpu=\"generic-rv32\",\n",
    "        # features=\"+m\", #基础整数指令集\n",
    "        opt=0,\n",
    "        reloc=\"default\",\n",
    "        codemodel=\"small\",\n",
    "        abiname=\"ilp32\" # 整数ABI(Application Binary Interface)，不支持硬件浮点运算\n",
    "    )\n",
    "    return riscv_target,riscv_machine \n",
    "target, target_machine = create_target_machine()"
   ]
  },
  {
   "cell_type": "code",
   "execution_count": null,
   "id": "9844c023",
   "metadata": {},
   "outputs": [],
   "source": [
    "# 生成汇编代码\n",
    "asm = target_machine.emit_assembly(binding_module)\n",
    "print(\"\\nGenerated Assembly:\")\n",
    "print(asm)"
   ]
  }
 ],
 "metadata": {
  "kernelspec": {
   "display_name": "bell",
   "language": "python",
   "name": "python3"
  },
  "language_info": {
   "codemirror_mode": {
    "name": "ipython",
    "version": 3
   },
   "file_extension": ".py",
   "mimetype": "text/x-python",
   "name": "python",
   "nbconvert_exporter": "python",
   "pygments_lexer": "ipython3",
   "version": "3.10.16"
  }
 },
 "nbformat": 4,
 "nbformat_minor": 5
}
